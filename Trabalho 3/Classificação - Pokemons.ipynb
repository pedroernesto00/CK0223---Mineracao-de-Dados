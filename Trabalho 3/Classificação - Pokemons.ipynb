{
 "cells": [
  {
   "cell_type": "code",
   "execution_count": 1,
   "metadata": {},
   "outputs": [],
   "source": [
    "import pandas as pd\n",
    "import numpy as np\n",
    "import tensorflow as tf\n",
    "from tensorflow import keras\n",
    "from IPython.display import Image\n",
    "import os\n",
    "from sklearn.model_selection import train_test_split\n",
    "from keras.preprocessing.image import ImageDataGenerator\n",
    "from shutil import copy2\n",
    "from keras.models import Sequential\n",
    "from keras.layers import Conv2D\n",
    "from keras.layers import MaxPooling2D\n",
    "from keras.layers import Flatten\n",
    "from keras.layers import Dense"
   ]
  },
  {
   "cell_type": "code",
   "execution_count": 2,
   "metadata": {
    "scrolled": true
   },
   "outputs": [
    {
     "data": {
      "text/html": [
       "<div>\n",
       "<style scoped>\n",
       "    .dataframe tbody tr th:only-of-type {\n",
       "        vertical-align: middle;\n",
       "    }\n",
       "\n",
       "    .dataframe tbody tr th {\n",
       "        vertical-align: top;\n",
       "    }\n",
       "\n",
       "    .dataframe thead th {\n",
       "        text-align: right;\n",
       "    }\n",
       "</style>\n",
       "<table border=\"1\" class=\"dataframe\">\n",
       "  <thead>\n",
       "    <tr style=\"text-align: right;\">\n",
       "      <th></th>\n",
       "      <th>Name</th>\n",
       "      <th>Type1</th>\n",
       "      <th>Type2</th>\n",
       "    </tr>\n",
       "  </thead>\n",
       "  <tbody>\n",
       "    <tr>\n",
       "      <th>0</th>\n",
       "      <td>bulbasaur</td>\n",
       "      <td>Grass</td>\n",
       "      <td>Poison</td>\n",
       "    </tr>\n",
       "    <tr>\n",
       "      <th>1</th>\n",
       "      <td>ivysaur</td>\n",
       "      <td>Grass</td>\n",
       "      <td>Poison</td>\n",
       "    </tr>\n",
       "    <tr>\n",
       "      <th>2</th>\n",
       "      <td>venusaur</td>\n",
       "      <td>Grass</td>\n",
       "      <td>Poison</td>\n",
       "    </tr>\n",
       "    <tr>\n",
       "      <th>3</th>\n",
       "      <td>charmander</td>\n",
       "      <td>Fire</td>\n",
       "      <td>NaN</td>\n",
       "    </tr>\n",
       "    <tr>\n",
       "      <th>4</th>\n",
       "      <td>charmeleon</td>\n",
       "      <td>Fire</td>\n",
       "      <td>NaN</td>\n",
       "    </tr>\n",
       "    <tr>\n",
       "      <th>...</th>\n",
       "      <td>...</td>\n",
       "      <td>...</td>\n",
       "      <td>...</td>\n",
       "    </tr>\n",
       "    <tr>\n",
       "      <th>804</th>\n",
       "      <td>stakataka</td>\n",
       "      <td>Rock</td>\n",
       "      <td>Steel</td>\n",
       "    </tr>\n",
       "    <tr>\n",
       "      <th>805</th>\n",
       "      <td>blacephalon</td>\n",
       "      <td>Fire</td>\n",
       "      <td>Ghost</td>\n",
       "    </tr>\n",
       "    <tr>\n",
       "      <th>806</th>\n",
       "      <td>zeraora</td>\n",
       "      <td>Electric</td>\n",
       "      <td>NaN</td>\n",
       "    </tr>\n",
       "    <tr>\n",
       "      <th>807</th>\n",
       "      <td>meltan</td>\n",
       "      <td>Steel</td>\n",
       "      <td>NaN</td>\n",
       "    </tr>\n",
       "    <tr>\n",
       "      <th>808</th>\n",
       "      <td>melmetal</td>\n",
       "      <td>Steel</td>\n",
       "      <td>NaN</td>\n",
       "    </tr>\n",
       "  </tbody>\n",
       "</table>\n",
       "<p>809 rows × 3 columns</p>\n",
       "</div>"
      ],
      "text/plain": [
       "            Name     Type1   Type2\n",
       "0      bulbasaur     Grass  Poison\n",
       "1        ivysaur     Grass  Poison\n",
       "2       venusaur     Grass  Poison\n",
       "3     charmander      Fire     NaN\n",
       "4     charmeleon      Fire     NaN\n",
       "..           ...       ...     ...\n",
       "804    stakataka      Rock   Steel\n",
       "805  blacephalon      Fire   Ghost\n",
       "806      zeraora  Electric     NaN\n",
       "807       meltan     Steel     NaN\n",
       "808     melmetal     Steel     NaN\n",
       "\n",
       "[809 rows x 3 columns]"
      ]
     },
     "execution_count": 2,
     "metadata": {},
     "output_type": "execute_result"
    }
   ],
   "source": [
    "pokemon_df = pd.read_csv('pokemon.csv')\n",
    "pokemon_df"
   ]
  },
  {
   "cell_type": "code",
   "execution_count": 3,
   "metadata": {
    "scrolled": true
   },
   "outputs": [],
   "source": [
    "pokemon_imgs = os.listdir('images')\n",
    "\n",
    "sorted_imgs = pokemon_imgs.copy()\n",
    "for pokemon in pokemon_imgs:\n",
    "    pokemon_name = pokemon.split('.')[0]\n",
    "    index = pokemon_df[pokemon_df.Name == pokemon_name].index.values[0]\n",
    "    sorted_imgs[index] = pokemon"
   ]
  },
  {
   "cell_type": "code",
   "execution_count": 4,
   "metadata": {},
   "outputs": [],
   "source": [
    "pokemon_df['Pokemon Image'] = sorted_imgs"
   ]
  },
  {
   "cell_type": "code",
   "execution_count": 5,
   "metadata": {},
   "outputs": [],
   "source": [
    "if not os.path.exists('train/'):\n",
    "    os.mkdir('train/')\n",
    "if not os.path.exists('val/'):\n",
    "    os.mkdir('val/')"
   ]
  },
  {
   "cell_type": "code",
   "execution_count": 6,
   "metadata": {},
   "outputs": [],
   "source": [
    "for pk_type in pokemon_df.Type1.unique():\n",
    "    if not os.path.exists(f'train/{pk_type}/'):\n",
    "        os.mkdir('train/'+str(pk_type)+'/')\n",
    "    if not os.path.exists(f'val/{pk_type}/'):\n",
    "        os.mkdir('val/'+str(pk_type)+'/')"
   ]
  },
  {
   "cell_type": "code",
   "execution_count": 7,
   "metadata": {},
   "outputs": [],
   "source": [
    "X_train, X_val, y_train, y_val = train_test_split(pokemon_df['Pokemon Image'], pokemon_df.Type1, \n",
    "                                                    test_size=0.3, stratify=pokemon_df.Type1, random_state=42)"
   ]
  },
  {
   "cell_type": "code",
   "execution_count": 8,
   "metadata": {},
   "outputs": [],
   "source": [
    "for from_path, to_path in zip(X_train.values, y_train.values):\n",
    "    if not os.path.exists( f'train/{to_path}'):\n",
    "        copy2(f'images/{from_path}', f'train/{to_path}')\n",
    "    "
   ]
  },
  {
   "cell_type": "code",
   "execution_count": 10,
   "metadata": {},
   "outputs": [],
   "source": [
    "for from_path, to_path in zip(X_val.values, y_val.values):\n",
    "    if not os.path.exists( f'val/{to_path}'):\n",
    "        copy2(f'images/{from_path}', f'val/{to_path}')"
   ]
  },
  {
   "cell_type": "code",
   "execution_count": 11,
   "metadata": {},
   "outputs": [
    {
     "name": "stdout",
     "output_type": "stream",
     "text": [
      "Found 566 images belonging to 18 classes.\n",
      "Found 243 images belonging to 18 classes.\n"
     ]
    }
   ],
   "source": [
    "train_datagen = ImageDataGenerator().flow_from_directory('train/')\n",
    "val_datagen = ImageDataGenerator().flow_from_directory('val/')"
   ]
  },
  {
   "cell_type": "code",
   "execution_count": 12,
   "metadata": {},
   "outputs": [],
   "source": [
    "classifier = Sequential()\n",
    "classifier.add(Conv2D(32, (3, 3), input_shape = (256,256, 3), activation = 'relu'))\n",
    "classifier.add(MaxPooling2D(pool_size = (3, 3)))\n",
    "classifier.add(Conv2D(64, (3, 3), activation = 'relu'))\n",
    "classifier.add(MaxPooling2D(pool_size = (3, 3)))\n",
    "classifier.add(Conv2D(128, (3, 3), activation = 'relu'))\n",
    "classifier.add(MaxPooling2D(pool_size = (3, 3)))\n",
    "classifier.add(Flatten())\n",
    "classifier.add(Dense(units = 512, activation = 'relu'))\n",
    "classifier.add(Dense(units = 18, activation = 'sigmoid'))\n",
    "\n",
    "classifier.compile(loss='categorical_crossentropy', optimizer= \"adam\", metrics=['accuracy'])"
   ]
  },
  {
   "cell_type": "code",
   "execution_count": null,
   "metadata": {},
   "outputs": [
    {
     "name": "stderr",
     "output_type": "stream",
     "text": [
      "C:\\ProgramData\\Anaconda3\\lib\\site-packages\\PIL\\Image.py:951: UserWarning: Palette images with Transparency expressed in bytes should be converted to RGBA images\n",
      "  warnings.warn(\n"
     ]
    },
    {
     "name": "stdout",
     "output_type": "stream",
     "text": [
      "Epoch 1/5\n",
      "18/18 [==============================] - 16s 894ms/step - loss: 60.7140 - accuracy: 0.0493 - val_loss: 2.8501 - val_accuracy: 0.1358\n",
      "Epoch 2/5\n",
      "18/18 [==============================] - 11s 620ms/step - loss: 2.6374 - accuracy: 0.1824 - val_loss: 2.7572 - val_accuracy: 0.1399\n",
      "Epoch 3/5\n",
      "18/18 [==============================] - 12s 651ms/step - loss: 2.3488 - accuracy: 0.2937 - val_loss: 2.8174 - val_accuracy: 0.1358\n",
      "Epoch 4/5\n",
      " 5/18 [=======>......................] - ETA: 6s - loss: 1.6321 - accuracy: 0.5894"
     ]
    }
   ],
   "source": [
    "classifier.fit(train_datagen,\n",
    "               epochs = 5,\n",
    "               validation_data = val_datagen)"
   ]
  },
  {
   "cell_type": "code",
   "execution_count": null,
   "metadata": {},
   "outputs": [],
   "source": []
  }
 ],
 "metadata": {
  "kernelspec": {
   "display_name": "Python 3",
   "language": "python",
   "name": "python3"
  },
  "language_info": {
   "codemirror_mode": {
    "name": "ipython",
    "version": 3
   },
   "file_extension": ".py",
   "mimetype": "text/x-python",
   "name": "python",
   "nbconvert_exporter": "python",
   "pygments_lexer": "ipython3",
   "version": "3.8.5"
  }
 },
 "nbformat": 4,
 "nbformat_minor": 2
}
