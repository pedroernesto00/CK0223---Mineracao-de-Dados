{
 "cells": [
  {
   "cell_type": "markdown",
   "source": [
    "## Imports"
   ],
   "metadata": {}
  },
  {
   "cell_type": "code",
   "execution_count": 34,
   "source": [
    "import pandas as pd\r\n",
    "import numpy as np\r\n",
    "import tensorflow as tf\r\n",
    "from tensorflow import keras\r\n",
    "from IPython.display import Image\r\n",
    "import os\r\n",
    "from sklearn.model_selection import train_test_split\r\n",
    "from keras.preprocessing.image import ImageDataGenerator\r\n",
    "from shutil import copy2, rmtree\r\n",
    "from PIL import Image\r\n",
    "from keras import layers\r\n",
    "from keras.models import Sequential\r\n",
    "from keras.layers import Conv2D\r\n",
    "from keras.layers import MaxPooling2D\r\n",
    "from keras.layers import Flatten\r\n",
    "from keras.layers import Dense\r\n",
    "from keras.layers import Dropout"
   ],
   "outputs": [],
   "metadata": {}
  },
  {
   "cell_type": "markdown",
   "source": [
    "## Lendo o Dataset"
   ],
   "metadata": {}
  },
  {
   "cell_type": "code",
   "execution_count": 35,
   "source": [
    "pokemon_df = pd.read_csv('pokemon.csv').drop(columns=['Type2'])\r\n",
    "pokemon_df"
   ],
   "outputs": [
    {
     "output_type": "execute_result",
     "data": {
      "text/plain": [
       "            Name     Type1\n",
       "0      bulbasaur     Grass\n",
       "1        ivysaur     Grass\n",
       "2       venusaur     Grass\n",
       "3     charmander      Fire\n",
       "4     charmeleon      Fire\n",
       "..           ...       ...\n",
       "804    stakataka      Rock\n",
       "805  blacephalon      Fire\n",
       "806      zeraora  Electric\n",
       "807       meltan     Steel\n",
       "808     melmetal     Steel\n",
       "\n",
       "[809 rows x 2 columns]"
      ],
      "text/html": [
       "<div>\n",
       "<style scoped>\n",
       "    .dataframe tbody tr th:only-of-type {\n",
       "        vertical-align: middle;\n",
       "    }\n",
       "\n",
       "    .dataframe tbody tr th {\n",
       "        vertical-align: top;\n",
       "    }\n",
       "\n",
       "    .dataframe thead th {\n",
       "        text-align: right;\n",
       "    }\n",
       "</style>\n",
       "<table border=\"1\" class=\"dataframe\">\n",
       "  <thead>\n",
       "    <tr style=\"text-align: right;\">\n",
       "      <th></th>\n",
       "      <th>Name</th>\n",
       "      <th>Type1</th>\n",
       "    </tr>\n",
       "  </thead>\n",
       "  <tbody>\n",
       "    <tr>\n",
       "      <th>0</th>\n",
       "      <td>bulbasaur</td>\n",
       "      <td>Grass</td>\n",
       "    </tr>\n",
       "    <tr>\n",
       "      <th>1</th>\n",
       "      <td>ivysaur</td>\n",
       "      <td>Grass</td>\n",
       "    </tr>\n",
       "    <tr>\n",
       "      <th>2</th>\n",
       "      <td>venusaur</td>\n",
       "      <td>Grass</td>\n",
       "    </tr>\n",
       "    <tr>\n",
       "      <th>3</th>\n",
       "      <td>charmander</td>\n",
       "      <td>Fire</td>\n",
       "    </tr>\n",
       "    <tr>\n",
       "      <th>4</th>\n",
       "      <td>charmeleon</td>\n",
       "      <td>Fire</td>\n",
       "    </tr>\n",
       "    <tr>\n",
       "      <th>...</th>\n",
       "      <td>...</td>\n",
       "      <td>...</td>\n",
       "    </tr>\n",
       "    <tr>\n",
       "      <th>804</th>\n",
       "      <td>stakataka</td>\n",
       "      <td>Rock</td>\n",
       "    </tr>\n",
       "    <tr>\n",
       "      <th>805</th>\n",
       "      <td>blacephalon</td>\n",
       "      <td>Fire</td>\n",
       "    </tr>\n",
       "    <tr>\n",
       "      <th>806</th>\n",
       "      <td>zeraora</td>\n",
       "      <td>Electric</td>\n",
       "    </tr>\n",
       "    <tr>\n",
       "      <th>807</th>\n",
       "      <td>meltan</td>\n",
       "      <td>Steel</td>\n",
       "    </tr>\n",
       "    <tr>\n",
       "      <th>808</th>\n",
       "      <td>melmetal</td>\n",
       "      <td>Steel</td>\n",
       "    </tr>\n",
       "  </tbody>\n",
       "</table>\n",
       "<p>809 rows × 2 columns</p>\n",
       "</div>"
      ]
     },
     "metadata": {},
     "execution_count": 35
    }
   ],
   "metadata": {
    "scrolled": true
   }
  },
  {
   "cell_type": "markdown",
   "source": [
    "### Adicionando path da imagem na row correspondente\n",
    "\n",
    "Algumas imagens possuem fundo transparente, então foi feita a conversão para RGBA"
   ],
   "metadata": {}
  },
  {
   "cell_type": "code",
   "execution_count": 36,
   "source": [
    "pokemon_imgs = os.listdir('images')\r\n",
    "\r\n",
    "if not os.path.exists('converted_images/'):\r\n",
    "    os.mkdir('converted_images/')\r\n",
    "else:\r\n",
    "    rmtree('converted_images/')\r\n",
    "    os.mkdir('converted_images/') \r\n",
    "\r\n",
    "sorted_imgs = pokemon_imgs.copy()\r\n",
    "for pokemon in pokemon_imgs:\r\n",
    "    pk_img = Image.open(f'images/{pokemon}')\r\n",
    "    \r\n",
    "    pk_img = pk_img.convert(\"RGBA\")\r\n",
    "    background = background = Image.new('RGB', pk_img.size, (256,256,256))\r\n",
    "    background.paste(pk_img, mask=pk_img.split()[3])\r\n",
    "    \r\n",
    "    background.save(f'converted_images/{pokemon.split(\".\")[0]}.jpg')\r\n",
    "    \r\n",
    "    pokemon_name = pokemon.split('.')[0]\r\n",
    "    index = pokemon_df[pokemon_df.Name == pokemon_name].index.values[0]\r\n",
    "    sorted_imgs[index] = f'{pokemon.split(\".\")[0]}.jpg'"
   ],
   "outputs": [],
   "metadata": {
    "scrolled": true
   }
  },
  {
   "cell_type": "code",
   "execution_count": 37,
   "source": [
    "pokemon_df['Pokemon Image'] = sorted_imgs\r\n",
    "pokemon_df"
   ],
   "outputs": [
    {
     "output_type": "execute_result",
     "data": {
      "text/plain": [
       "            Name     Type1    Pokemon Image\n",
       "0      bulbasaur     Grass    bulbasaur.jpg\n",
       "1        ivysaur     Grass      ivysaur.jpg\n",
       "2       venusaur     Grass     venusaur.jpg\n",
       "3     charmander      Fire   charmander.jpg\n",
       "4     charmeleon      Fire   charmeleon.jpg\n",
       "..           ...       ...              ...\n",
       "804    stakataka      Rock    stakataka.jpg\n",
       "805  blacephalon      Fire  blacephalon.jpg\n",
       "806      zeraora  Electric      zeraora.jpg\n",
       "807       meltan     Steel       meltan.jpg\n",
       "808     melmetal     Steel     melmetal.jpg\n",
       "\n",
       "[809 rows x 3 columns]"
      ],
      "text/html": [
       "<div>\n",
       "<style scoped>\n",
       "    .dataframe tbody tr th:only-of-type {\n",
       "        vertical-align: middle;\n",
       "    }\n",
       "\n",
       "    .dataframe tbody tr th {\n",
       "        vertical-align: top;\n",
       "    }\n",
       "\n",
       "    .dataframe thead th {\n",
       "        text-align: right;\n",
       "    }\n",
       "</style>\n",
       "<table border=\"1\" class=\"dataframe\">\n",
       "  <thead>\n",
       "    <tr style=\"text-align: right;\">\n",
       "      <th></th>\n",
       "      <th>Name</th>\n",
       "      <th>Type1</th>\n",
       "      <th>Pokemon Image</th>\n",
       "    </tr>\n",
       "  </thead>\n",
       "  <tbody>\n",
       "    <tr>\n",
       "      <th>0</th>\n",
       "      <td>bulbasaur</td>\n",
       "      <td>Grass</td>\n",
       "      <td>bulbasaur.jpg</td>\n",
       "    </tr>\n",
       "    <tr>\n",
       "      <th>1</th>\n",
       "      <td>ivysaur</td>\n",
       "      <td>Grass</td>\n",
       "      <td>ivysaur.jpg</td>\n",
       "    </tr>\n",
       "    <tr>\n",
       "      <th>2</th>\n",
       "      <td>venusaur</td>\n",
       "      <td>Grass</td>\n",
       "      <td>venusaur.jpg</td>\n",
       "    </tr>\n",
       "    <tr>\n",
       "      <th>3</th>\n",
       "      <td>charmander</td>\n",
       "      <td>Fire</td>\n",
       "      <td>charmander.jpg</td>\n",
       "    </tr>\n",
       "    <tr>\n",
       "      <th>4</th>\n",
       "      <td>charmeleon</td>\n",
       "      <td>Fire</td>\n",
       "      <td>charmeleon.jpg</td>\n",
       "    </tr>\n",
       "    <tr>\n",
       "      <th>...</th>\n",
       "      <td>...</td>\n",
       "      <td>...</td>\n",
       "      <td>...</td>\n",
       "    </tr>\n",
       "    <tr>\n",
       "      <th>804</th>\n",
       "      <td>stakataka</td>\n",
       "      <td>Rock</td>\n",
       "      <td>stakataka.jpg</td>\n",
       "    </tr>\n",
       "    <tr>\n",
       "      <th>805</th>\n",
       "      <td>blacephalon</td>\n",
       "      <td>Fire</td>\n",
       "      <td>blacephalon.jpg</td>\n",
       "    </tr>\n",
       "    <tr>\n",
       "      <th>806</th>\n",
       "      <td>zeraora</td>\n",
       "      <td>Electric</td>\n",
       "      <td>zeraora.jpg</td>\n",
       "    </tr>\n",
       "    <tr>\n",
       "      <th>807</th>\n",
       "      <td>meltan</td>\n",
       "      <td>Steel</td>\n",
       "      <td>meltan.jpg</td>\n",
       "    </tr>\n",
       "    <tr>\n",
       "      <th>808</th>\n",
       "      <td>melmetal</td>\n",
       "      <td>Steel</td>\n",
       "      <td>melmetal.jpg</td>\n",
       "    </tr>\n",
       "  </tbody>\n",
       "</table>\n",
       "<p>809 rows × 3 columns</p>\n",
       "</div>"
      ]
     },
     "metadata": {},
     "execution_count": 37
    }
   ],
   "metadata": {}
  },
  {
   "cell_type": "code",
   "execution_count": 38,
   "source": [
    "pokemon_df['Type1'].value_counts()"
   ],
   "outputs": [
    {
     "output_type": "execute_result",
     "data": {
      "text/plain": [
       "Water       114\n",
       "Normal      105\n",
       "Grass        78\n",
       "Bug          72\n",
       "Fire         53\n",
       "Psychic      53\n",
       "Rock         46\n",
       "Electric     40\n",
       "Poison       34\n",
       "Ground       32\n",
       "Fighting     29\n",
       "Dark         29\n",
       "Dragon       27\n",
       "Ghost        27\n",
       "Steel        26\n",
       "Ice          23\n",
       "Fairy        18\n",
       "Flying        3\n",
       "Name: Type1, dtype: int64"
      ]
     },
     "metadata": {},
     "execution_count": 38
    }
   ],
   "metadata": {}
  },
  {
   "cell_type": "code",
   "execution_count": 39,
   "source": [
    "index = pokemon_df.loc[(pokemon_df.Type1 != 'Water') &  (pokemon_df.Type1 != 'Normal')].index.values\r\n",
    "pokemon_df.drop(index=index, inplace=True)"
   ],
   "outputs": [],
   "metadata": {}
  },
  {
   "cell_type": "markdown",
   "source": [
    "### Separando imagens em Treino e Validação\n",
    "\n",
    "Add Teste"
   ],
   "metadata": {}
  },
  {
   "cell_type": "code",
   "execution_count": 40,
   "source": [
    "if not os.path.exists('train/'):\r\n",
    "    os.mkdir('train/')\r\n",
    "else:\r\n",
    "    rmtree('train/')\r\n",
    "    os.mkdir('train/') \r\n",
    "\r\n",
    "if not os.path.exists('val/'):\r\n",
    "    os.mkdir('val/')\r\n",
    "else:\r\n",
    "    rmtree('val/')\r\n",
    "    os.mkdir('val/') \r\n",
    "\r\n",
    "if not os.path.exists('test/'):\r\n",
    "    os.mkdir('test/')\r\n",
    "else:\r\n",
    "    rmtree('test/')\r\n",
    "    os.mkdir('test/') "
   ],
   "outputs": [],
   "metadata": {}
  },
  {
   "cell_type": "code",
   "execution_count": 41,
   "source": [
    "for pk_type in pokemon_df.Type1.unique():\r\n",
    "    if not os.path.exists(f'train/{pk_type}/'):\r\n",
    "        os.mkdir('train/'+str(pk_type)+'/')\r\n",
    "    if not os.path.exists(f'val/{pk_type}/'):\r\n",
    "        os.mkdir('val/'+str(pk_type)+'/')\r\n",
    "    if not os.path.exists(f'test/'):\r\n",
    "        os.mkdir('test/')"
   ],
   "outputs": [],
   "metadata": {}
  },
  {
   "cell_type": "code",
   "execution_count": 42,
   "source": [
    "X_train_val, X_test, y_train_val, y_test = train_test_split(pokemon_df['Pokemon Image'], pokemon_df.Type1, \r\n",
    "                                                    test_size=0.2, stratify=pokemon_df.Type1, random_state=42)"
   ],
   "outputs": [],
   "metadata": {}
  },
  {
   "cell_type": "code",
   "execution_count": 43,
   "source": [
    "X_train, X_val, y_train, y_val = train_test_split(X_train_val, y_train_val, \r\n",
    "                                                    test_size=0.2, stratify=y_train_val, random_state=42)"
   ],
   "outputs": [],
   "metadata": {}
  },
  {
   "cell_type": "code",
   "execution_count": 44,
   "source": [
    "for from_path, to_path in zip(X_train.values, y_train.values):\r\n",
    "    if os.path.exists( f'train/{to_path}'):\r\n",
    "        copy2(f'converted_images/{from_path}', f'train/{to_path}/')\r\n",
    "    "
   ],
   "outputs": [],
   "metadata": {}
  },
  {
   "cell_type": "code",
   "execution_count": 45,
   "source": [
    "for from_path, to_path in zip(X_test.values, y_test.values):\r\n",
    "    copy2(f'converted_images/{from_path}', f'test/')"
   ],
   "outputs": [],
   "metadata": {}
  },
  {
   "cell_type": "code",
   "execution_count": 46,
   "source": [
    "for from_path, to_path in zip(X_val.values, y_val.values):\r\n",
    "    if os.path.exists( f'val/{to_path}'):\r\n",
    "        copy2(f'converted_images/{from_path}', f'val/{to_path}/')"
   ],
   "outputs": [],
   "metadata": {}
  },
  {
   "cell_type": "code",
   "execution_count": 63,
   "source": [
    "train_datagen = ImageDataGenerator(rescale=1./255, \r\n",
    "                                   rotation_range=40, \r\n",
    "                                   width_shift_range=0.2, \r\n",
    "                                   height_shift_range=0.2, \r\n",
    "                                   shear_range=.2, \r\n",
    "                                   zoom_range=0.2,\r\n",
    "                                   horizontal_flip=True) \r\n",
    "                                   #fill_mode='nearest')\r\n",
    "val_datagen = ImageDataGenerator(rescale = 1./255)\r\n",
    "train_generator = train_datagen.flow_from_directory('train/', \r\n",
    "                                                    target_size = (64, 64), \r\n",
    "                                                    class_mode='binary', \r\n",
    "                                                    shuffle=True,\r\n",
    "                                                    color_mode='rgb')\r\n",
    "\r\n",
    "val_generator = val_datagen.flow_from_directory('val/', \r\n",
    "                                                  target_size = (64, 64),\r\n",
    "                                                  class_mode='binary',\r\n",
    "                                                  shuffle=True)"
   ],
   "outputs": [
    {
     "output_type": "stream",
     "name": "stdout",
     "text": [
      "Found 140 images belonging to 2 classes.\n",
      "Found 35 images belonging to 2 classes.\n"
     ]
    }
   ],
   "metadata": {}
  },
  {
   "cell_type": "markdown",
   "source": [
    "## Testando CNNs"
   ],
   "metadata": {}
  },
  {
   "cell_type": "code",
   "execution_count": 65,
   "source": [
    "# Initialising the CNN\r\n",
    "classifier = Sequential()\r\n",
    "# Convolution\r\n",
    "classifier.add(Conv2D(32, (3, 3), input_shape = (64, 64, 3), activation = 'relu'))\r\n",
    "# Pooling\r\n",
    "classifier.add(MaxPooling2D(pool_size = (2, 2)))\r\n",
    "# Convolution\r\n",
    "classifier.add(Conv2D(32, (3, 3), input_shape = (64, 64, 3), activation = 'relu'))\r\n",
    "classifier.add(MaxPooling2D(pool_size = (2, 2)))\r\n",
    "# Flattening\r\n",
    "classifier.add(Flatten())\r\n",
    "# Full connection\r\n",
    "#classifier.add(Dense(units = 256, activation = 'relu'))\r\n",
    "# Add Dropout to prevent overfitting\r\n",
    "#classifier.add(Dropout(0.5))\r\n",
    "classifier.add(Dense(units = 128, activation = 'relu'))\r\n",
    "classifier.add(Dense(units = 1, activation = 'sigmoid'))\r\n",
    "\r\n",
    "classifier.compile(optimizer = 'adam', loss = 'binary_crossentropy', metrics = ['accuracy'])"
   ],
   "outputs": [],
   "metadata": {}
  },
  {
   "cell_type": "code",
   "execution_count": 49,
   "source": [
    "# train_data_augment = ImageDataGenerator(rescale=1./255, shear_range=0.2, zoom_range=0.2, horizontal_flip=True)\r\n",
    "# test_data_augment = ImageDataGenerator(rescale=1./255, shear_range=0.2, zoom_range=0.2, horizontal_flip=True)\r\n",
    "\r\n",
    "# batch_size = 32\r\n",
    "# train_data = train_data_augment.flow_from_directory('train/', target_size=(112, 112), batch_size=batch_size, \r\n",
    "#                                                     class_mode='categorical', shuffle=True, color_mode='rgb')\r\n",
    "\r\n",
    "# test_data = test_data_augment.flow_from_directory('test/', target_size=(112, 112), batch_size=batch_size, \r\n",
    "#                                                   class_mode='categorical', shuffle=True, color_mode='rgb')\r\n",
    "                                                  \r\n",
    "# data_augmentation = keras.Sequential([\r\n",
    "#     layers.experimental.preprocessing.RandomFlip(\"horizontal\"),\r\n",
    "#     layers.experimental.preprocessing.RandomRotation(0.2)\r\n",
    "# ])\r\n",
    "\r\n",
    "# augmented_train = train_datagen.map(lambda x, y: (data_augmentation(x, training=True), y))\r\n",
    "\r\n",
    "# augmented_train = augmented_train.prefetch(buffer_size=32)\r\n",
    "# validation = val_datagen.prefetch(buffer_size=32)                                                  "
   ],
   "outputs": [],
   "metadata": {}
  },
  {
   "cell_type": "code",
   "execution_count": 50,
   "source": [
    "# classifier.fit_generator(train_data, steps_per_epoch=len(train_data)/batch_size, epochs=30, \r\n",
    "#                          validation_data=test_data, validation_steps=len(test_data)//batch_size)"
   ],
   "outputs": [],
   "metadata": {}
  },
  {
   "cell_type": "code",
   "execution_count": 66,
   "source": [
    "classifier.fit(train_generator,\r\n",
    "               epochs = 30,\r\n",
    "               validation_data = val_generator)"
   ],
   "outputs": [
    {
     "output_type": "stream",
     "name": "stdout",
     "text": [
      "Epoch 1/30\n",
      "5/5 [==============================] - 1s 178ms/step - loss: 0.8851 - accuracy: 0.5402 - val_loss: 0.7000 - val_accuracy: 0.5143\n",
      "Epoch 2/30\n",
      "5/5 [==============================] - 1s 136ms/step - loss: 0.6982 - accuracy: 0.5086 - val_loss: 0.6915 - val_accuracy: 0.6000\n",
      "Epoch 3/30\n",
      "5/5 [==============================] - 1s 121ms/step - loss: 0.6903 - accuracy: 0.6249 - val_loss: 0.6902 - val_accuracy: 0.5714\n",
      "Epoch 4/30\n",
      "5/5 [==============================] - 1s 122ms/step - loss: 0.6952 - accuracy: 0.4898 - val_loss: 0.6879 - val_accuracy: 0.5429\n",
      "Epoch 5/30\n",
      "5/5 [==============================] - 1s 118ms/step - loss: 0.6870 - accuracy: 0.5864 - val_loss: 0.6846 - val_accuracy: 0.5143\n",
      "Epoch 6/30\n",
      "5/5 [==============================] - 1s 130ms/step - loss: 0.6786 - accuracy: 0.5511 - val_loss: 0.6755 - val_accuracy: 0.6857\n",
      "Epoch 7/30\n",
      "5/5 [==============================] - 1s 118ms/step - loss: 0.6688 - accuracy: 0.6873 - val_loss: 0.6696 - val_accuracy: 0.5429\n",
      "Epoch 8/30\n",
      "5/5 [==============================] - 1s 126ms/step - loss: 0.6742 - accuracy: 0.5210 - val_loss: 0.6593 - val_accuracy: 0.6857\n",
      "Epoch 9/30\n",
      "5/5 [==============================] - 1s 125ms/step - loss: 0.6638 - accuracy: 0.5751 - val_loss: 0.6550 - val_accuracy: 0.5429\n",
      "Epoch 10/30\n",
      "5/5 [==============================] - 1s 120ms/step - loss: 0.6485 - accuracy: 0.6099 - val_loss: 0.6571 - val_accuracy: 0.6000\n",
      "Epoch 11/30\n",
      "5/5 [==============================] - 1s 131ms/step - loss: 0.6381 - accuracy: 0.6817 - val_loss: 0.6321 - val_accuracy: 0.5429\n",
      "Epoch 12/30\n",
      "5/5 [==============================] - 1s 122ms/step - loss: 0.6077 - accuracy: 0.6685 - val_loss: 0.6221 - val_accuracy: 0.6286\n",
      "Epoch 13/30\n",
      "5/5 [==============================] - 1s 137ms/step - loss: 0.6197 - accuracy: 0.6876 - val_loss: 0.6487 - val_accuracy: 0.5143\n",
      "Epoch 14/30\n",
      "5/5 [==============================] - 1s 148ms/step - loss: 0.5855 - accuracy: 0.7126 - val_loss: 0.6105 - val_accuracy: 0.7143\n",
      "Epoch 15/30\n",
      "5/5 [==============================] - 1s 120ms/step - loss: 0.5986 - accuracy: 0.6451 - val_loss: 0.6047 - val_accuracy: 0.6571\n",
      "Epoch 16/30\n",
      "5/5 [==============================] - 1s 110ms/step - loss: 0.5691 - accuracy: 0.7160 - val_loss: 0.6028 - val_accuracy: 0.6857\n",
      "Epoch 17/30\n",
      "5/5 [==============================] - 1s 125ms/step - loss: 0.5841 - accuracy: 0.7116 - val_loss: 0.6130 - val_accuracy: 0.6286\n",
      "Epoch 18/30\n",
      "5/5 [==============================] - 1s 133ms/step - loss: 0.5110 - accuracy: 0.7380 - val_loss: 0.6658 - val_accuracy: 0.6571\n",
      "Epoch 19/30\n",
      "5/5 [==============================] - 1s 115ms/step - loss: 0.5065 - accuracy: 0.7744 - val_loss: 0.6659 - val_accuracy: 0.6000\n",
      "Epoch 20/30\n",
      "5/5 [==============================] - 1s 121ms/step - loss: 0.5746 - accuracy: 0.6957 - val_loss: 0.6435 - val_accuracy: 0.6857\n",
      "Epoch 21/30\n",
      "5/5 [==============================] - 1s 162ms/step - loss: 0.5219 - accuracy: 0.7440 - val_loss: 0.5958 - val_accuracy: 0.6857\n",
      "Epoch 22/30\n",
      "5/5 [==============================] - 1s 139ms/step - loss: 0.5171 - accuracy: 0.7649 - val_loss: 0.6445 - val_accuracy: 0.6571\n",
      "Epoch 23/30\n",
      "5/5 [==============================] - 1s 119ms/step - loss: 0.5057 - accuracy: 0.7691 - val_loss: 0.6568 - val_accuracy: 0.6286\n",
      "Epoch 24/30\n",
      "5/5 [==============================] - 1s 114ms/step - loss: 0.5336 - accuracy: 0.7515 - val_loss: 0.6017 - val_accuracy: 0.6571\n",
      "Epoch 25/30\n",
      "5/5 [==============================] - 1s 141ms/step - loss: 0.5184 - accuracy: 0.7157 - val_loss: 0.6088 - val_accuracy: 0.6286\n",
      "Epoch 26/30\n",
      "5/5 [==============================] - 1s 113ms/step - loss: 0.4649 - accuracy: 0.8028 - val_loss: 0.6820 - val_accuracy: 0.6000\n",
      "Epoch 27/30\n",
      "5/5 [==============================] - 1s 124ms/step - loss: 0.4885 - accuracy: 0.7926 - val_loss: 0.6912 - val_accuracy: 0.6286\n",
      "Epoch 28/30\n",
      "5/5 [==============================] - 1s 124ms/step - loss: 0.4871 - accuracy: 0.7567 - val_loss: 0.6644 - val_accuracy: 0.6000\n",
      "Epoch 29/30\n",
      "5/5 [==============================] - 1s 117ms/step - loss: 0.5313 - accuracy: 0.7186 - val_loss: 0.5927 - val_accuracy: 0.6571\n",
      "Epoch 30/30\n",
      "5/5 [==============================] - 1s 148ms/step - loss: 0.4935 - accuracy: 0.7889 - val_loss: 0.6469 - val_accuracy: 0.6571\n"
     ]
    },
    {
     "output_type": "execute_result",
     "data": {
      "text/plain": [
       "<tensorflow.python.keras.callbacks.History at 0x2de49427490>"
      ]
     },
     "metadata": {},
     "execution_count": 66
    }
   ],
   "metadata": {}
  },
  {
   "cell_type": "code",
   "execution_count": 69,
   "source": [
    "from keras.preprocessing import image\r\n",
    "test_image = image.load_img('test/snorlax.jpg', target_size = (64, 64))\r\n",
    "test_image = image.img_to_array(test_image)\r\n",
    "test_image = np.expand_dims(test_image, axis = 0)\r\n",
    "result = np.round(classifier.predict(test_image))\r\n",
    "train_generator.class_indices\r\n",
    "\r\n",
    "if result[0][0] == 1:\r\n",
    "  prediction = \"Normal\"\r\n",
    "else:\r\n",
    "  prediction = \"Water\""
   ],
   "outputs": [],
   "metadata": {}
  },
  {
   "cell_type": "code",
   "execution_count": 70,
   "source": [
    "im = Image.open('test/snorlax.jpg')\r\n",
    "im.show()\r\n",
    "prediction"
   ],
   "outputs": [
    {
     "output_type": "execute_result",
     "data": {
      "text/plain": [
       "'Normal'"
      ]
     },
     "metadata": {},
     "execution_count": 70
    }
   ],
   "metadata": {}
  }
 ],
 "metadata": {
  "kernelspec": {
   "name": "python3",
   "display_name": "Python 3.8.5 64-bit ('base': conda)"
  },
  "language_info": {
   "codemirror_mode": {
    "name": "ipython",
    "version": 3
   },
   "file_extension": ".py",
   "mimetype": "text/x-python",
   "name": "python",
   "nbconvert_exporter": "python",
   "pygments_lexer": "ipython3",
   "version": "3.8.5"
  },
  "interpreter": {
   "hash": "b3ba2566441a7c06988d0923437866b63cedc61552a5af99d1f4fb67d367b25f"
  }
 },
 "nbformat": 4,
 "nbformat_minor": 2
}