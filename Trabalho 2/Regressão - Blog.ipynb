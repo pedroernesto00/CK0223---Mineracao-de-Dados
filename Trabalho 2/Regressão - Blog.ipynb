{
 "cells": [
  {
   "cell_type": "code",
   "execution_count": 3,
   "metadata": {},
   "outputs": [],
   "source": [
    "import pandas as pd\n",
    "import numpy as np\n",
    "from glob import glob\n",
    "from sklearn.model_selection import train_test_split, GridSearchCV\n",
    "from sklearn.preprocessing import StandardScaler\n",
    "from sklearn.decomposition import PCA\n",
    "from sklearn.pipeline import Pipeline"
   ]
  },
  {
   "cell_type": "markdown",
   "metadata": {},
   "source": [
    "### Classificadores"
   ]
  },
  {
   "cell_type": "code",
   "execution_count": 4,
   "metadata": {},
   "outputs": [],
   "source": [
    "from sklearn.svm import SVR\n",
    "from sklearn.linear_model import LinearRegression\n",
    "from sklearn.ensemble import GradientBoostingRegressor, RandomForestRegressor"
   ]
  },
  {
   "cell_type": "markdown",
   "metadata": {},
   "source": [
    "### Métricas"
   ]
  },
  {
   "cell_type": "code",
   "execution_count": 5,
   "metadata": {},
   "outputs": [],
   "source": [
    "from sklearn.metrics import mean_squared_error"
   ]
  },
  {
   "cell_type": "markdown",
   "metadata": {},
   "source": [
    "## Importando Dataset"
   ]
  },
  {
   "cell_type": "code",
   "execution_count": 6,
   "metadata": {},
   "outputs": [],
   "source": [
    "blog_df = pd.DataFrame(None)\n",
    "for file in glob('BlogFeedback/*'):\n",
    "    df = pd.read_csv(file, header=None)\n",
    "    blog_df = pd.concat([blog_df, df], ignore_index=None)"
   ]
  },
  {
   "cell_type": "code",
   "execution_count": 27,
   "metadata": {},
   "outputs": [
    {
     "data": {
      "text/plain": [
       "0    281\n",
       "dtype: int64"
      ]
     },
     "execution_count": 27,
     "metadata": {},
     "output_type": "execute_result"
    }
   ],
   "source": [
    "blog_df"
   ]
  },
  {
   "cell_type": "markdown",
   "metadata": {},
   "source": [
    "## Separando em dados de Treino e Teste"
   ]
  },
  {
   "cell_type": "code",
   "execution_count": 8,
   "metadata": {},
   "outputs": [],
   "source": [
    "X = blog_df.drop(columns=[280])\n",
    "y = blog_df[280]"
   ]
  },
  {
   "cell_type": "code",
   "execution_count": 9,
   "metadata": {},
   "outputs": [],
   "source": [
    "X_train, X_test, y_train, y_test = train_test_split(X, y, test_size=0.2)"
   ]
  },
  {
   "cell_type": "markdown",
   "metadata": {},
   "source": [
    "## Criando Pipelines"
   ]
  },
  {
   "cell_type": "code",
   "execution_count": 10,
   "metadata": {},
   "outputs": [],
   "source": [
    "pca = PCA(n_components=2)\n",
    "def cls_pipeline(cls):\n",
    "    return Pipeline(steps=[('scale', StandardScaler()),\n",
    "                        ('pca', pca),\n",
    "                        ('cls', cls)])\n"
   ]
  },
  {
   "cell_type": "code",
   "execution_count": 11,
   "metadata": {},
   "outputs": [],
   "source": [
    "# comparar Regressão Linear, RandomForest, SVM e Gradient Boosting"
   ]
  },
  {
   "cell_type": "code",
   "execution_count": 37,
   "metadata": {},
   "outputs": [],
   "source": [
    "pca_components = [_ for _ in range (2, len(blog_df.columns), 2)]\n",
    "\n",
    "rl_params = {'cls__n_jobs' : [-1],\n",
    "            'pca__n_components' : pca_components}\n",
    "\n",
    "rf_params = {'cls__n_estimators' : [_ for _ in range (10, 110, 10)],\n",
    "            'cls__criterion' : ['mae', 'mse'],\n",
    "            'cls__max_depth' : list(np.linspace(10, 1000, 10)) + [None],\n",
    "            'cls__max_features' : ['auto', 'sqrt','log2'],\n",
    "            'cls__min_samples_leaf' : [_ for _ in range (1, 11)],\n",
    "            'cls__min_samples_split' : [_ for _ in range (2, 22, 2)],\n",
    "            'pca__n_components' : pca_components}\n",
    "\n",
    "param_range = [0.0001, 0.001, 0.01, 0.1, 1.0, 10.0, 100.0, 1000.0]\n",
    "svr_params = [{'cls__C': param_range, \n",
    "               'cls__kernel': ['linear'],\n",
    "              'pca__n_components' : pca_components},\n",
    "              {'cls__C': param_range, \n",
    "               'cls__gamma': param_range, \n",
    "               'cls__kernel': ['rbf'],\n",
    "               'pca__n_components' : pca_components}]\n",
    "\n",
    "gbr_params = {'cls__n_estimators' : [_ for _ in range (100, 1100, 100)],\n",
    "            'cls__loss' : ['ls', 'lad', 'huber', 'quantile'],\n",
    "            'cls__learning_rate' : list(np.linspace(0, 0.3, 13)),\n",
    "            'cls__criterion' : ['friedman_mse', 'mse', 'mae'],\n",
    "            'cls__subsample' : list(np.linspace(0.25, 2, 8)),\n",
    "            'cls__max_depth' : [_ for _ in range (3,11)],\n",
    "            'cls__max_features' : ['auto', 'sqrt','log2'],\n",
    "            'cls__min_samples_leaf' : [_ for _ in range (1, 11)],\n",
    "            'cls__min_samples_split' : [_ for _ in range (2, 22, 2)],\n",
    "            'pca__n_components' : pca_components}"
   ]
  },
  {
   "cell_type": "code",
   "execution_count": 39,
   "metadata": {},
   "outputs": [],
   "source": [
    "pipe_svr = cls_pipeline(GradientBoostingRegressor())\n",
    "\n",
    "gs = GridSearchCV(estimator=pipe_svr, \n",
    "                  param_grid=gbr_params, \n",
    "                  scoring='accuracy', \n",
    "                  refit=True,\n",
    "                  cv=10,\n",
    "                  n_jobs=-1)"
   ]
  },
  {
   "cell_type": "code",
   "execution_count": null,
   "metadata": {},
   "outputs": [],
   "source": [
    "gs.fit(X_train, y_train)"
   ]
  },
  {
   "cell_type": "code",
   "execution_count": null,
   "metadata": {},
   "outputs": [],
   "source": [
    "print(gs.best_score_)\n",
    "print(gs.best_params_)"
   ]
  },
  {
   "cell_type": "code",
   "execution_count": null,
   "metadata": {},
   "outputs": [],
   "source": []
  }
 ],
 "metadata": {
  "kernelspec": {
   "display_name": "Python 3",
   "language": "python",
   "name": "python3"
  }
 },
 "nbformat": 4,
 "nbformat_minor": 4
}
