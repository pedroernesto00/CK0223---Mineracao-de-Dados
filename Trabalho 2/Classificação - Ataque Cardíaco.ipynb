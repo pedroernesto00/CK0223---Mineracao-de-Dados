{
 "cells": [
  {
   "cell_type": "code",
   "execution_count": 18,
   "source": [
    "import pandas as pd\r\n",
    "import numpy as np\r\n",
    "from sklearn.model_selection import train_test_split, GridSearchCV\r\n",
    "from sklearn.preprocessing import StandardScaler\r\n",
    "from sklearn.pipeline import Pipeline\r\n",
    "import scikitplot as skplt"
   ],
   "outputs": [],
   "metadata": {}
  },
  {
   "cell_type": "markdown",
   "source": [
    "### Modelos de classificação"
   ],
   "metadata": {}
  },
  {
   "cell_type": "code",
   "execution_count": 19,
   "source": [
    "from sklearn.ensemble import RandomForestClassifier\r\n",
    "from sklearn.linear_model import LogisticRegression\r\n",
    "from sklearn.neighbors import KNeighborsClassifier\r\n",
    "from sklearn.naive_bayes import GaussianNB\r\n",
    "from sklearn.svm import SVC\r\n"
   ],
   "outputs": [],
   "metadata": {}
  },
  {
   "cell_type": "markdown",
   "source": [
    "### Métricas"
   ],
   "metadata": {}
  },
  {
   "cell_type": "code",
   "execution_count": 20,
   "source": [
    "from sklearn.metrics import precision_score, recall_score, f1_score, accuracy_score"
   ],
   "outputs": [],
   "metadata": {}
  },
  {
   "cell_type": "markdown",
   "source": [
    "## Importando o Dataset"
   ],
   "metadata": {}
  },
  {
   "cell_type": "markdown",
   "source": [
    "O dataset foi tirado do Kaggle, pelo link https://www.kaggle.com/rashikrahmanpritom/heart-attack-analysis-prediction-dataset. O dataset consiste em um conjunto de dados sobre a saúde de pacientes, de tal forma que a variável target, a qual devemos fazer a predição, é a chance de ter um ataque cardíaco, de 0 a 1, de um paciente baseado nos seguintes atributos:\r\n",
    "1. Idade\r\n",
    "2. Sexo\r\n",
    "3. Angina induzida por exercícios\r\n",
    "4. Número de grandes vasos sanguíneos\r\n",
    "5. Tipo de dor no peito\r\n",
    "6. Pressão sanguínea em repouso\r\n",
    "7. Colesterol\r\n",
    "8. Açúcar no sangue em jejum\r\n",
    "9. Resultado do ECG\r\n",
    "10. Maior valor do batimento cardíaco"
   ],
   "metadata": {}
  },
  {
   "cell_type": "code",
   "execution_count": 21,
   "source": [
    "heart_df = pd.read_csv('HeartAttack/heart.csv')"
   ],
   "outputs": [],
   "metadata": {}
  },
  {
   "cell_type": "code",
   "execution_count": 22,
   "source": [
    "heart_df"
   ],
   "outputs": [
    {
     "output_type": "execute_result",
     "data": {
      "text/plain": [
       "     age  sex  cp  trtbps  chol  fbs  restecg  thalachh  exng  oldpeak  slp  \\\n",
       "0     63    1   3     145   233    1        0       150     0      2.3    0   \n",
       "1     37    1   2     130   250    0        1       187     0      3.5    0   \n",
       "2     41    0   1     130   204    0        0       172     0      1.4    2   \n",
       "3     56    1   1     120   236    0        1       178     0      0.8    2   \n",
       "4     57    0   0     120   354    0        1       163     1      0.6    2   \n",
       "..   ...  ...  ..     ...   ...  ...      ...       ...   ...      ...  ...   \n",
       "298   57    0   0     140   241    0        1       123     1      0.2    1   \n",
       "299   45    1   3     110   264    0        1       132     0      1.2    1   \n",
       "300   68    1   0     144   193    1        1       141     0      3.4    1   \n",
       "301   57    1   0     130   131    0        1       115     1      1.2    1   \n",
       "302   57    0   1     130   236    0        0       174     0      0.0    1   \n",
       "\n",
       "     caa  thall  output  \n",
       "0      0      1       1  \n",
       "1      0      2       1  \n",
       "2      0      2       1  \n",
       "3      0      2       1  \n",
       "4      0      2       1  \n",
       "..   ...    ...     ...  \n",
       "298    0      3       0  \n",
       "299    0      3       0  \n",
       "300    2      3       0  \n",
       "301    1      3       0  \n",
       "302    1      2       0  \n",
       "\n",
       "[303 rows x 14 columns]"
      ],
      "text/html": [
       "<div>\n",
       "<style scoped>\n",
       "    .dataframe tbody tr th:only-of-type {\n",
       "        vertical-align: middle;\n",
       "    }\n",
       "\n",
       "    .dataframe tbody tr th {\n",
       "        vertical-align: top;\n",
       "    }\n",
       "\n",
       "    .dataframe thead th {\n",
       "        text-align: right;\n",
       "    }\n",
       "</style>\n",
       "<table border=\"1\" class=\"dataframe\">\n",
       "  <thead>\n",
       "    <tr style=\"text-align: right;\">\n",
       "      <th></th>\n",
       "      <th>age</th>\n",
       "      <th>sex</th>\n",
       "      <th>cp</th>\n",
       "      <th>trtbps</th>\n",
       "      <th>chol</th>\n",
       "      <th>fbs</th>\n",
       "      <th>restecg</th>\n",
       "      <th>thalachh</th>\n",
       "      <th>exng</th>\n",
       "      <th>oldpeak</th>\n",
       "      <th>slp</th>\n",
       "      <th>caa</th>\n",
       "      <th>thall</th>\n",
       "      <th>output</th>\n",
       "    </tr>\n",
       "  </thead>\n",
       "  <tbody>\n",
       "    <tr>\n",
       "      <th>0</th>\n",
       "      <td>63</td>\n",
       "      <td>1</td>\n",
       "      <td>3</td>\n",
       "      <td>145</td>\n",
       "      <td>233</td>\n",
       "      <td>1</td>\n",
       "      <td>0</td>\n",
       "      <td>150</td>\n",
       "      <td>0</td>\n",
       "      <td>2.3</td>\n",
       "      <td>0</td>\n",
       "      <td>0</td>\n",
       "      <td>1</td>\n",
       "      <td>1</td>\n",
       "    </tr>\n",
       "    <tr>\n",
       "      <th>1</th>\n",
       "      <td>37</td>\n",
       "      <td>1</td>\n",
       "      <td>2</td>\n",
       "      <td>130</td>\n",
       "      <td>250</td>\n",
       "      <td>0</td>\n",
       "      <td>1</td>\n",
       "      <td>187</td>\n",
       "      <td>0</td>\n",
       "      <td>3.5</td>\n",
       "      <td>0</td>\n",
       "      <td>0</td>\n",
       "      <td>2</td>\n",
       "      <td>1</td>\n",
       "    </tr>\n",
       "    <tr>\n",
       "      <th>2</th>\n",
       "      <td>41</td>\n",
       "      <td>0</td>\n",
       "      <td>1</td>\n",
       "      <td>130</td>\n",
       "      <td>204</td>\n",
       "      <td>0</td>\n",
       "      <td>0</td>\n",
       "      <td>172</td>\n",
       "      <td>0</td>\n",
       "      <td>1.4</td>\n",
       "      <td>2</td>\n",
       "      <td>0</td>\n",
       "      <td>2</td>\n",
       "      <td>1</td>\n",
       "    </tr>\n",
       "    <tr>\n",
       "      <th>3</th>\n",
       "      <td>56</td>\n",
       "      <td>1</td>\n",
       "      <td>1</td>\n",
       "      <td>120</td>\n",
       "      <td>236</td>\n",
       "      <td>0</td>\n",
       "      <td>1</td>\n",
       "      <td>178</td>\n",
       "      <td>0</td>\n",
       "      <td>0.8</td>\n",
       "      <td>2</td>\n",
       "      <td>0</td>\n",
       "      <td>2</td>\n",
       "      <td>1</td>\n",
       "    </tr>\n",
       "    <tr>\n",
       "      <th>4</th>\n",
       "      <td>57</td>\n",
       "      <td>0</td>\n",
       "      <td>0</td>\n",
       "      <td>120</td>\n",
       "      <td>354</td>\n",
       "      <td>0</td>\n",
       "      <td>1</td>\n",
       "      <td>163</td>\n",
       "      <td>1</td>\n",
       "      <td>0.6</td>\n",
       "      <td>2</td>\n",
       "      <td>0</td>\n",
       "      <td>2</td>\n",
       "      <td>1</td>\n",
       "    </tr>\n",
       "    <tr>\n",
       "      <th>...</th>\n",
       "      <td>...</td>\n",
       "      <td>...</td>\n",
       "      <td>...</td>\n",
       "      <td>...</td>\n",
       "      <td>...</td>\n",
       "      <td>...</td>\n",
       "      <td>...</td>\n",
       "      <td>...</td>\n",
       "      <td>...</td>\n",
       "      <td>...</td>\n",
       "      <td>...</td>\n",
       "      <td>...</td>\n",
       "      <td>...</td>\n",
       "      <td>...</td>\n",
       "    </tr>\n",
       "    <tr>\n",
       "      <th>298</th>\n",
       "      <td>57</td>\n",
       "      <td>0</td>\n",
       "      <td>0</td>\n",
       "      <td>140</td>\n",
       "      <td>241</td>\n",
       "      <td>0</td>\n",
       "      <td>1</td>\n",
       "      <td>123</td>\n",
       "      <td>1</td>\n",
       "      <td>0.2</td>\n",
       "      <td>1</td>\n",
       "      <td>0</td>\n",
       "      <td>3</td>\n",
       "      <td>0</td>\n",
       "    </tr>\n",
       "    <tr>\n",
       "      <th>299</th>\n",
       "      <td>45</td>\n",
       "      <td>1</td>\n",
       "      <td>3</td>\n",
       "      <td>110</td>\n",
       "      <td>264</td>\n",
       "      <td>0</td>\n",
       "      <td>1</td>\n",
       "      <td>132</td>\n",
       "      <td>0</td>\n",
       "      <td>1.2</td>\n",
       "      <td>1</td>\n",
       "      <td>0</td>\n",
       "      <td>3</td>\n",
       "      <td>0</td>\n",
       "    </tr>\n",
       "    <tr>\n",
       "      <th>300</th>\n",
       "      <td>68</td>\n",
       "      <td>1</td>\n",
       "      <td>0</td>\n",
       "      <td>144</td>\n",
       "      <td>193</td>\n",
       "      <td>1</td>\n",
       "      <td>1</td>\n",
       "      <td>141</td>\n",
       "      <td>0</td>\n",
       "      <td>3.4</td>\n",
       "      <td>1</td>\n",
       "      <td>2</td>\n",
       "      <td>3</td>\n",
       "      <td>0</td>\n",
       "    </tr>\n",
       "    <tr>\n",
       "      <th>301</th>\n",
       "      <td>57</td>\n",
       "      <td>1</td>\n",
       "      <td>0</td>\n",
       "      <td>130</td>\n",
       "      <td>131</td>\n",
       "      <td>0</td>\n",
       "      <td>1</td>\n",
       "      <td>115</td>\n",
       "      <td>1</td>\n",
       "      <td>1.2</td>\n",
       "      <td>1</td>\n",
       "      <td>1</td>\n",
       "      <td>3</td>\n",
       "      <td>0</td>\n",
       "    </tr>\n",
       "    <tr>\n",
       "      <th>302</th>\n",
       "      <td>57</td>\n",
       "      <td>0</td>\n",
       "      <td>1</td>\n",
       "      <td>130</td>\n",
       "      <td>236</td>\n",
       "      <td>0</td>\n",
       "      <td>0</td>\n",
       "      <td>174</td>\n",
       "      <td>0</td>\n",
       "      <td>0.0</td>\n",
       "      <td>1</td>\n",
       "      <td>1</td>\n",
       "      <td>2</td>\n",
       "      <td>0</td>\n",
       "    </tr>\n",
       "  </tbody>\n",
       "</table>\n",
       "<p>303 rows × 14 columns</p>\n",
       "</div>"
      ]
     },
     "metadata": {},
     "execution_count": 22
    }
   ],
   "metadata": {
    "scrolled": true
   }
  },
  {
   "cell_type": "markdown",
   "source": [
    "## Separação em Dados de Treino e Dados de Teste"
   ],
   "metadata": {}
  },
  {
   "cell_type": "markdown",
   "source": [
    "### Checando se os dados estão balanceados"
   ],
   "metadata": {}
  },
  {
   "cell_type": "code",
   "execution_count": 23,
   "source": [
    "heart_df['output'].value_counts()"
   ],
   "outputs": [
    {
     "output_type": "execute_result",
     "data": {
      "text/plain": [
       "1    165\n",
       "0    138\n",
       "Name: output, dtype: int64"
      ]
     },
     "metadata": {},
     "execution_count": 23
    }
   ],
   "metadata": {}
  },
  {
   "cell_type": "markdown",
   "source": [
    "### Dividindo os dados em treino e teste"
   ],
   "metadata": {}
  },
  {
   "cell_type": "code",
   "execution_count": 24,
   "source": [
    "X = heart_df.drop(columns=['output'])\r\n",
    "y = heart_df['output']\r\n",
    "X_train, X_test, y_train, y_test = train_test_split(X, y, test_size=0.2)"
   ],
   "outputs": [],
   "metadata": {}
  },
  {
   "cell_type": "markdown",
   "source": [
    "## GridSearch para Estimar Hiperparâmetros"
   ],
   "metadata": {}
  },
  {
   "cell_type": "code",
   "execution_count": 25,
   "source": [
    "def best_estimator(cls, params, cv=10):\r\n",
    "    pipe = Pipeline(steps=[('scale', StandardScaler()), ('cls', cls)])\r\n",
    "    gs = GridSearchCV(estimator=pipe, \r\n",
    "                  param_grid=params,\r\n",
    "                  cv=cv,\r\n",
    "                  n_jobs=-1)\r\n",
    "    \r\n",
    "    gs.fit(X_train, y_train)\r\n",
    "    return gs"
   ],
   "outputs": [],
   "metadata": {}
  },
  {
   "cell_type": "markdown",
   "source": [
    "### Valores para hiperparâmetros"
   ],
   "metadata": {}
  },
  {
   "cell_type": "code",
   "execution_count": 26,
   "source": [
    "param_range = [0.0001, 0.001, 0.01, 0.1, 1.0, 10.0, 100.0, 1000.0]\r\n",
    "lr_param = {\r\n",
    "            'cls__fit_intercept' : [True, False],\r\n",
    "            'cls__solver' : ['newton-cg', 'lbfgs', 'liblinear', 'sag', 'saga'],\r\n",
    "            'cls__C' : param_range\r\n",
    "}\r\n",
    "\r\n",
    "svc_param = {\r\n",
    "            'cls__C' : param_range,\r\n",
    "            'cls__kernel' : ['linear', 'poly', 'rbf', 'sigmoid'],\r\n",
    "            'cls__degree': [_ for _ in range (3, 8)],\r\n",
    "            'cls__decision_function_shape' : ['ovo', 'ovr']\r\n",
    "}\r\n",
    "\r\n",
    "gnb_param = {\r\n",
    "            'cls__var_smoothing' : [10**-9]\r\n",
    "}\r\n",
    "\r\n",
    "knn_param = {\r\n",
    "            'cls__n_neighbors' : [_ for _ in range(2,16)],\r\n",
    "            'cls__weights' : ['uniform', 'distance'],\r\n",
    "            'cls__algorithm' : ['auto', 'ball_tree', 'kd_tree', 'brute']\r\n",
    "}\r\n",
    "\r\n",
    "rf_param = {\r\n",
    "            'cls__n_estimators' : [_ for _ in range(5, 20, 5)],\r\n",
    "            'cls__criterion' : ['gini', 'entropy'],\r\n",
    "            'cls__max_depth' : [_ for _ in range(2, 16, 2)],\r\n",
    "            'cls__min_samples_split' : [_ for _ in range(2,6)],\r\n",
    "            'cls__min_samples_leaf' : [_ for _ in range(1, 5)],\r\n",
    "            'cls__max_features' : ['auto', 'sqrt', 'log2']\r\n",
    "}\r\n",
    "\r\n"
   ],
   "outputs": [],
   "metadata": {}
  },
  {
   "cell_type": "markdown",
   "source": [
    "### Modelos"
   ],
   "metadata": {}
  },
  {
   "cell_type": "code",
   "execution_count": 27,
   "source": [
    "models = [(LogisticRegression(), lr_param), (SVC(), svc_param), (GaussianNB(), gnb_param), (KNeighborsClassifier(), knn_param), (RandomForestClassifier(), rf_param)]"
   ],
   "outputs": [],
   "metadata": {}
  },
  {
   "cell_type": "code",
   "execution_count": 28,
   "source": [
    "models_gs = []\r\n",
    "\r\n",
    "for model in models:\r\n",
    "    print(model[0])\r\n",
    "    pipe = model[0]\r\n",
    "    params = model[1]\r\n",
    "    models_gs.append(best_estimator(pipe, params))"
   ],
   "outputs": [
    {
     "output_type": "stream",
     "name": "stdout",
     "text": [
      "LogisticRegression()\n",
      "SVC()\n",
      "GaussianNB()\n",
      "KNeighborsClassifier()\n",
      "RandomForestClassifier()\n"
     ]
    }
   ],
   "metadata": {}
  },
  {
   "cell_type": "markdown",
   "source": [
    "## Classificadores"
   ],
   "metadata": {}
  },
  {
   "cell_type": "markdown",
   "source": [
    "### Regressão Logística"
   ],
   "metadata": {}
  },
  {
   "cell_type": "markdown",
   "source": [
    "#### Melhores Hiperparâmetros"
   ],
   "metadata": {}
  },
  {
   "cell_type": "code",
   "execution_count": 29,
   "source": [
    "models_gs[0].best_params_"
   ],
   "outputs": [
    {
     "output_type": "execute_result",
     "data": {
      "text/plain": [
       "{'cls__C': 0.1, 'cls__fit_intercept': False, 'cls__solver': 'newton-cg'}"
      ]
     },
     "metadata": {},
     "execution_count": 29
    }
   ],
   "metadata": {}
  },
  {
   "cell_type": "code",
   "execution_count": 31,
   "source": [
    "lr = models_gs[0]\r\n",
    "lr.best_estimator_.fit(X_train, y_train)\r\n",
    "lr_pred_test = lr.best_estimator_.predict(X_test)\r\n",
    "lr_pred_train = lr.best_estimator_.predict(X_train)\r\n",
    "\r\n",
    "skplt.metrics.plot_confusion_matrix(y_test, lr_pred_test)"
   ],
   "outputs": [
    {
     "output_type": "execute_result",
     "data": {
      "text/plain": [
       "<AxesSubplot:title={'center':'Confusion Matrix'}, xlabel='Predicted label', ylabel='True label'>"
      ]
     },
     "metadata": {},
     "execution_count": 31
    },
    {
     "output_type": "display_data",
     "data": {
      "text/plain": [
       "<Figure size 432x288 with 2 Axes>"
      ],
      "image/png": "[encoded data removed]"
     },
     "metadata": {
      "needs_background": "light"
     }
    }
   ],
   "metadata": {}
  },
  {
   "cell_type": "markdown",
   "source": [
    "### Support Vector Machines - SVC"
   ],
   "metadata": {}
  },
  {
   "cell_type": "markdown",
   "source": [
    "O SVM recebe de entrada um conjunto de dados que fazem parte de duas classes e procura procurar o melhor hiperplano que as divide. Inicialmente, se não for possível traçar uma linha que separa as classes decentemente, uma nova dimensão é inserida no problema e o hiperplano é traçado. Posteriormente, o algoritmo retorna à dimensão inicial com as classes devidamente separadas."
   ],
   "metadata": {}
  },
  {
   "cell_type": "markdown",
   "source": [
    "#### Melhores Hiperparâmetros"
   ],
   "metadata": {}
  },
  {
   "cell_type": "code",
   "execution_count": null,
   "source": [
    "models_gs[1].best_params_"
   ],
   "outputs": [
    {
     "output_type": "execute_result",
     "data": {
      "text/plain": [
       "{'cls__C': 1.0,\n",
       " 'cls__decision_function_shape': 'ovo',\n",
       " 'cls__degree': 3,\n",
       " 'cls__kernel': 'linear'}"
      ]
     },
     "metadata": {},
     "execution_count": 57
    }
   ],
   "metadata": {}
  },
  {
   "cell_type": "code",
   "execution_count": 32,
   "source": [
    "svc = models_gs[1]\r\n",
    "svc.best_estimator_.fit(X_train, y_train)\r\n",
    "svc_pred_test = svc.best_estimator_.predict(X_test)\r\n",
    "svc_pred_train = svc.best_estimator_.predict(X_train)\r\n",
    "\r\n",
    "skplt.metrics.plot_confusion_matrix(y_test, svc_pred_test)"
   ],
   "outputs": [
    {
     "output_type": "execute_result",
     "data": {
      "text/plain": [
       "<AxesSubplot:title={'center':'Confusion Matrix'}, xlabel='Predicted label', ylabel='True label'>"
      ]
     },
     "metadata": {},
     "execution_count": 32
    },
    {
     "output_type": "display_data",
     "data": {
      "text/plain": [
       "<Figure size 432x288 with 2 Axes>"
      ],
      "image/png": "[encoded data removed]"
     },
     "metadata": {
      "needs_background": "light"
     }
    }
   ],
   "metadata": {}
  },
  {
   "cell_type": "markdown",
   "source": [
    "### GaussianNB"
   ],
   "metadata": {}
  },
  {
   "cell_type": "markdown",
   "source": [
    "O algoritmo Gaussian Naive Bayes é um classificador que utiliza as probabilidades dos eventos para gerar o modelo. É chamado de Naive (ingênuo) pois desconsidera as correlações entre as features, por exemplo, se o objetivo é classificar se um abacaxi é um abacaxi e as features são gosto (doce ou amargo), cor, possui_espinhos ..., o algoritmo trata as features de forma independente."
   ],
   "metadata": {}
  },
  {
   "cell_type": "markdown",
   "source": [
    "#### Melhores Hiperparâmetros"
   ],
   "metadata": {}
  },
  {
   "cell_type": "code",
   "execution_count": null,
   "source": [
    "models_gs[2].best_params_"
   ],
   "outputs": [
    {
     "output_type": "execute_result",
     "data": {
      "text/plain": [
       "{'cls__var_smoothing': 1e-09}"
      ]
     },
     "metadata": {},
     "execution_count": 59
    }
   ],
   "metadata": {}
  },
  {
   "cell_type": "code",
   "execution_count": 33,
   "source": [
    "gnb = models_gs[2]\r\n",
    "gnb.best_estimator_.fit(X_train, y_train)\r\n",
    "gnb_pred_test = gnb.best_estimator_.predict(X_test)\r\n",
    "gnb_pred_train = gnb.best_estimator_.predict(X_train)\r\n",
    "\r\n",
    "skplt.metrics.plot_confusion_matrix(y_test, gnb_pred_test)"
   ],
   "outputs": [
    {
     "output_type": "execute_result",
     "data": {
      "text/plain": [
       "<AxesSubplot:title={'center':'Confusion Matrix'}, xlabel='Predicted label', ylabel='True label'>"
      ]
     },
     "metadata": {},
     "execution_count": 33
    },
    {
     "output_type": "display_data",
     "data": {
      "text/plain": [
       "<Figure size 432x288 with 2 Axes>"
      ],
      "image/png": "[encoded data removed]"
     },
     "metadata": {
      "needs_background": "light"
     }
    }
   ],
   "metadata": {}
  },
  {
   "cell_type": "markdown",
   "source": [
    "### KNN"
   ],
   "metadata": {}
  },
  {
   "cell_type": "markdown",
   "source": [
    "#### Melhores Hiperparâmetros"
   ],
   "metadata": {}
  },
  {
   "cell_type": "code",
   "execution_count": null,
   "source": [
    "models_gs[3].best_params_"
   ],
   "outputs": [
    {
     "output_type": "execute_result",
     "data": {
      "text/plain": [
       "{'cls__algorithm': 'auto', 'cls__n_neighbors': 6, 'cls__weights': 'uniform'}"
      ]
     },
     "metadata": {},
     "execution_count": 61
    }
   ],
   "metadata": {}
  },
  {
   "cell_type": "code",
   "execution_count": 34,
   "source": [
    "knn = models_gs[3]\r\n",
    "knn.best_estimator_.fit(X_train, y_train)\r\n",
    "knn_pred_test = knn.best_estimator_.predict(X_test)\r\n",
    "knn_pred_train = knn.best_estimator_.predict(X_train)\r\n",
    "\r\n",
    "skplt.metrics.plot_confusion_matrix(y_test, knn_pred_test)"
   ],
   "outputs": [
    {
     "output_type": "execute_result",
     "data": {
      "text/plain": [
       "<AxesSubplot:title={'center':'Confusion Matrix'}, xlabel='Predicted label', ylabel='True label'>"
      ]
     },
     "metadata": {},
     "execution_count": 34
    },
    {
     "output_type": "display_data",
     "data": {
      "text/plain": [
       "<Figure size 432x288 with 2 Axes>"
      ],
      "image/png": "[encoded data removed]"
     },
     "metadata": {
      "needs_background": "light"
     }
    }
   ],
   "metadata": {}
  },
  {
   "cell_type": "markdown",
   "source": [
    "### Random Forest"
   ],
   "metadata": {}
  },
  {
   "cell_type": "markdown",
   "source": [
    "A Random Forest é um método Ensemble de árvores de decisão. Isso quer dizer que esse método é um agrupamento de modelos de árvores de decisão, com o objetivo de reduzir a variância dos resultados e tornar o modelo mais estável e preciso. \r\n",
    "\r\n",
    "Diferentes árvores de decisão são construídas a partir do mesmo conjunto de dados e, de forma aleatória, o modelo consulta cada árvore e o retorno do método é a média dos resultados de cada árvore de decisão, no caso da regressão.\r\n",
    "\r\n",
    "A árvore de decisão é um método de aprendizagem de máquina supervisionado, em que se é criada uma árvore a partir da divisão do espaço amostral em várias subregiões, a fim de fazer uma decisão sobre o resultado final, no caso, a chance de o paciente sofrer um ataque cardíaco. A árvore procura o atributo que gera a melhor divisão dos dados, o conjunto de maior pureza, escolhido por meio de alguma métrica, como o erro médio quadrado ou erro médio absoluto.\r\n",
    "\r\n",
    "Como vantagem, podemos citar que aceita tanto dados categóricos quanto numéricos, o que reduz a necessidade de tratamento dos dados. Porém, como desvantagem, podemos citar a propensão ao overfitting, logo temos que ter cuidado com isso."
   ],
   "metadata": {}
  },
  {
   "cell_type": "markdown",
   "source": [
    "#### Melhores Hiperparâmetros"
   ],
   "metadata": {}
  },
  {
   "cell_type": "code",
   "execution_count": 35,
   "source": [
    "models_gs[4].best_params_"
   ],
   "outputs": [
    {
     "output_type": "execute_result",
     "data": {
      "text/plain": [
       "{'cls__criterion': 'entropy',\n",
       " 'cls__max_depth': 14,\n",
       " 'cls__max_features': 'sqrt',\n",
       " 'cls__min_samples_leaf': 3,\n",
       " 'cls__min_samples_split': 2,\n",
       " 'cls__n_estimators': 10}"
      ]
     },
     "metadata": {},
     "execution_count": 35
    }
   ],
   "metadata": {}
  },
  {
   "cell_type": "code",
   "execution_count": 36,
   "source": [
    "rf = models_gs[4]\r\n",
    "rf.best_estimator_.fit(X_train, y_train)\r\n",
    "rf_pred_test = rf.best_estimator_.predict(X_test)\r\n",
    "rf_pred_train = rf.best_estimator_.predict(X_train)\r\n",
    "\r\n",
    "skplt.metrics.plot_confusion_matrix(y_test, rf_pred_test)"
   ],
   "outputs": [
    {
     "output_type": "execute_result",
     "data": {
      "text/plain": [
       "<AxesSubplot:title={'center':'Confusion Matrix'}, xlabel='Predicted label', ylabel='True label'>"
      ]
     },
     "metadata": {},
     "execution_count": 36
    },
    {
     "output_type": "display_data",
     "data": {
      "text/plain": [
       "<Figure size 432x288 with 2 Axes>"
      ],
      "image/png": "[encoded data removed]"
     },
     "metadata": {
      "needs_background": "light"
     }
    }
   ],
   "metadata": {}
  },
  {
   "cell_type": "markdown",
   "source": [
    "## Resultados"
   ],
   "metadata": {}
  },
  {
   "cell_type": "code",
   "execution_count": null,
   "source": [
    "print lr"
   ],
   "outputs": [],
   "metadata": {}
  },
  {
   "cell_type": "code",
   "execution_count": 46,
   "source": [
    "metrics_df = pd.DataFrame(None)\r\n",
    "estimators = ['Regressão Logística', 'SVC', 'Naive Bayes Gaussiano','KNN', 'Random Forest']\r\n",
    "predictions_test = [lr_pred_test, knn_pred_test, svc_pred_test, \r\n",
    "                    rf_pred_test, gnb_pred_test]\r\n",
    "# predictions_train = [lr_pred_train, knn_pred_train, svc_pred_train, \r\n",
    "#                      rf_pred_train, gnb_pred_train]\r\n",
    "\r\n",
    "i = 0\r\n",
    "for test in predictions_test:\r\n",
    "    accuracy = accuracy_score(y_test, test)\r\n",
    "    precision = precision_score(y_test, test)\r\n",
    "    recall = recall_score(y_test, test)\r\n",
    "    f1 = f1_score(y_test, test)\r\n",
    "\r\n",
    "    row = pd.DataFrame(['Teste', estimators[i], accuracy, precision, recall, f1]).T\r\n",
    "    metrics_df = pd.concat([metrics_df, row], ignore_index=True)\r\n",
    "    i += 1\r\n",
    "\r\n",
    "# i = 0\r\n",
    "# for train in predictions_train:\r\n",
    "#     accuracy = accuracy_score(y_train, train)\r\n",
    "#     precision = precision_score(y_train, train)\r\n",
    "#     recall = recall_score(y_train, train)\r\n",
    "#     f1 = f1_score(y_train, train)\r\n",
    "\r\n",
    "#     row = pd.DataFrame(['Treino', estimators[i], accuracy, precision, recall, f1]).T\r\n",
    "#     metrics_df = pd.concat([metrics_df, row], ignore_index=True)\r\n",
    "#     i += 1\r\n",
    "    \r\n",
    "metrics_df.columns = ['Subconjunto', 'Modelo', 'Accuracy', 'Precision', 'Recall', 'F1-score']\r\n",
    "metrics_df.set_index(['Modelo', 'Subconjunto'])"
   ],
   "outputs": [
    {
     "output_type": "execute_result",
     "data": {
      "text/plain": [
       "                                   Accuracy Precision   Recall  F1-score\n",
       "Modelo                Subconjunto                                       \n",
       "Regressão Logística   Teste        0.836066  0.805556  0.90625  0.852941\n",
       "SVC                   Teste        0.852459  0.828571  0.90625  0.865672\n",
       "Naive Bayes Gaussiano Teste        0.819672  0.769231   0.9375   0.84507\n",
       "KNN                   Teste        0.852459  0.810811   0.9375  0.869565\n",
       "Random Forest         Teste        0.868852  0.852941  0.90625  0.878788"
      ],
      "text/html": [
       "<div>\n",
       "<style scoped>\n",
       "    .dataframe tbody tr th:only-of-type {\n",
       "        vertical-align: middle;\n",
       "    }\n",
       "\n",
       "    .dataframe tbody tr th {\n",
       "        vertical-align: top;\n",
       "    }\n",
       "\n",
       "    .dataframe thead th {\n",
       "        text-align: right;\n",
       "    }\n",
       "</style>\n",
       "<table border=\"1\" class=\"dataframe\">\n",
       "  <thead>\n",
       "    <tr style=\"text-align: right;\">\n",
       "      <th></th>\n",
       "      <th></th>\n",
       "      <th>Accuracy</th>\n",
       "      <th>Precision</th>\n",
       "      <th>Recall</th>\n",
       "      <th>F1-score</th>\n",
       "    </tr>\n",
       "    <tr>\n",
       "      <th>Modelo</th>\n",
       "      <th>Subconjunto</th>\n",
       "      <th></th>\n",
       "      <th></th>\n",
       "      <th></th>\n",
       "      <th></th>\n",
       "    </tr>\n",
       "  </thead>\n",
       "  <tbody>\n",
       "    <tr>\n",
       "      <th>Regressão Logística</th>\n",
       "      <th>Teste</th>\n",
       "      <td>0.836066</td>\n",
       "      <td>0.805556</td>\n",
       "      <td>0.90625</td>\n",
       "      <td>0.852941</td>\n",
       "    </tr>\n",
       "    <tr>\n",
       "      <th>SVC</th>\n",
       "      <th>Teste</th>\n",
       "      <td>0.852459</td>\n",
       "      <td>0.828571</td>\n",
       "      <td>0.90625</td>\n",
       "      <td>0.865672</td>\n",
       "    </tr>\n",
       "    <tr>\n",
       "      <th>Naive Bayes Gaussiano</th>\n",
       "      <th>Teste</th>\n",
       "      <td>0.819672</td>\n",
       "      <td>0.769231</td>\n",
       "      <td>0.9375</td>\n",
       "      <td>0.84507</td>\n",
       "    </tr>\n",
       "    <tr>\n",
       "      <th>KNN</th>\n",
       "      <th>Teste</th>\n",
       "      <td>0.852459</td>\n",
       "      <td>0.810811</td>\n",
       "      <td>0.9375</td>\n",
       "      <td>0.869565</td>\n",
       "    </tr>\n",
       "    <tr>\n",
       "      <th>Random Forest</th>\n",
       "      <th>Teste</th>\n",
       "      <td>0.868852</td>\n",
       "      <td>0.852941</td>\n",
       "      <td>0.90625</td>\n",
       "      <td>0.878788</td>\n",
       "    </tr>\n",
       "  </tbody>\n",
       "</table>\n",
       "</div>"
      ]
     },
     "metadata": {},
     "execution_count": 46
    }
   ],
   "metadata": {}
  },
  {
   "cell_type": "markdown",
   "source": [
    "## Conclusão"
   ],
   "metadata": {}
  },
  {
   "cell_type": "markdown",
   "source": [],
   "metadata": {}
  }
 ],
 "metadata": {
  "kernelspec": {
   "display_name": "Python 3",
   "language": "python",
   "name": "python3"
  },
  "language_info": {
   "codemirror_mode": {
    "name": "ipython",
    "version": 3
   },
   "file_extension": ".py",
   "mimetype": "text/x-python",
   "name": "python",
   "nbconvert_exporter": "python",
   "pygments_lexer": "ipython3",
   "version": "3.8.5"
  }
 },
 "nbformat": 4,
 "nbformat_minor": 4
}