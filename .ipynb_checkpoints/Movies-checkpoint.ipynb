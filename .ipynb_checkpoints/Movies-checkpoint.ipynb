{
 "cells": [
  {
   "cell_type": "code",
   "execution_count": 1,
   "metadata": {},
   "outputs": [],
   "source": [
    "import pandas as pd\n",
    "import numpy as np\n",
    "import matplotlib.pyplot as plt"
   ]
  },
  {
   "cell_type": "markdown",
   "metadata": {},
   "source": [
    "## Importação de Dataset de Filmes e de Avaliações"
   ]
  },
  {
   "cell_type": "code",
   "execution_count": 2,
   "metadata": {},
   "outputs": [],
   "source": [
    "movies_df = pd.read_csv('Movies/IMDb movies.csv', low_memory=False)"
   ]
  },
  {
   "cell_type": "code",
   "execution_count": 3,
   "metadata": {},
   "outputs": [],
   "source": [
    "ratings_df = pd.read_csv('Movies/IMDb ratings.csv')"
   ]
  },
  {
   "cell_type": "markdown",
   "metadata": {},
   "source": [
    "## Dataset Filmes"
   ]
  },
  {
   "cell_type": "code",
   "execution_count": 5,
   "metadata": {},
   "outputs": [],
   "source": [
    "movies_df.loc[movies_df.year == 'TV Movie 2019', ['year']] = '2019'"
   ]
  },
  {
   "cell_type": "markdown",
   "metadata": {},
   "source": [
    "### Remoção Colunas"
   ]
  },
  {
   "cell_type": "code",
   "execution_count": 6,
   "metadata": {},
   "outputs": [],
   "source": [
    "movies_df.drop(columns=(['title', 'language', 'writer'] \n",
    "                        + list(movies_df.columns[13:])), inplace=True)"
   ]
  },
  {
   "cell_type": "markdown",
   "metadata": {},
   "source": [
    "## Dataset Avaliações"
   ]
  },
  {
   "cell_type": "markdown",
   "metadata": {},
   "source": [
    "### Remoção Colunas"
   ]
  },
  {
   "cell_type": "code",
   "execution_count": 7,
   "metadata": {},
   "outputs": [
    {
     "data": {
      "text/plain": [
       "True    85855\n",
       "Name: imdb_title_id, dtype: int64"
      ]
     },
     "execution_count": 7,
     "metadata": {},
     "output_type": "execute_result"
    }
   ],
   "source": [
    "(movies_df['imdb_title_id'] == ratings_df['imdb_title_id']).value_counts()"
   ]
  },
  {
   "cell_type": "code",
   "execution_count": 8,
   "metadata": {},
   "outputs": [],
   "source": [
    "drop_columns = (['imdb_title_id', 'weighted_average_vote', 'median_vote'] \n",
    "                + list(ratings_df.columns[16:23:2]) + list(ratings_df.columns[26:33:2]) \n",
    "                + list(ratings_df.columns[36:43:2]) + list(ratings_df.columns[43:]))"
   ]
  },
  {
   "cell_type": "code",
   "execution_count": 9,
   "metadata": {},
   "outputs": [],
   "source": [
    "ratings_df.drop(columns=drop_columns, inplace=True)"
   ]
  },
  {
   "cell_type": "code",
   "execution_count": 10,
   "metadata": {},
   "outputs": [],
   "source": [
    "ratings_df.fillna(0, inplace=True)"
   ]
  },
  {
   "cell_type": "markdown",
   "metadata": {},
   "source": [
    "## Concatenando os dois datasets em apenas um"
   ]
  },
  {
   "cell_type": "code",
   "execution_count": 11,
   "metadata": {},
   "outputs": [],
   "source": [
    "rated_movies_df = pd.concat([movies_df, ratings_df], axis=1, \n",
    "                     verify_integrity=True)"
   ]
  },
  {
   "cell_type": "code",
   "execution_count": 12,
   "metadata": {},
   "outputs": [],
   "source": [
    "rated_movies_df.dropna(inplace=True)"
   ]
  },
  {
   "cell_type": "code",
   "execution_count": 13,
   "metadata": {},
   "outputs": [
    {
     "data": {
      "text/html": [
       "<div>\n",
       "<style scoped>\n",
       "    .dataframe tbody tr th:only-of-type {\n",
       "        vertical-align: middle;\n",
       "    }\n",
       "\n",
       "    .dataframe tbody tr th {\n",
       "        vertical-align: top;\n",
       "    }\n",
       "\n",
       "    .dataframe thead th {\n",
       "        text-align: right;\n",
       "    }\n",
       "</style>\n",
       "<table border=\"1\" class=\"dataframe\">\n",
       "  <thead>\n",
       "    <tr style=\"text-align: right;\">\n",
       "      <th></th>\n",
       "      <th>imdb_title_id</th>\n",
       "      <th>original_title</th>\n",
       "      <th>year</th>\n",
       "      <th>date_published</th>\n",
       "      <th>genre</th>\n",
       "      <th>duration</th>\n",
       "      <th>country</th>\n",
       "      <th>director</th>\n",
       "      <th>production_company</th>\n",
       "      <th>actors</th>\n",
       "      <th>...</th>\n",
       "      <th>males_0age_avg_vote</th>\n",
       "      <th>males_18age_avg_vote</th>\n",
       "      <th>males_30age_avg_vote</th>\n",
       "      <th>males_45age_avg_vote</th>\n",
       "      <th>females_allages_avg_vote</th>\n",
       "      <th>females_allages_votes</th>\n",
       "      <th>females_0age_avg_vote</th>\n",
       "      <th>females_18age_avg_vote</th>\n",
       "      <th>females_30age_avg_vote</th>\n",
       "      <th>females_45age_avg_vote</th>\n",
       "    </tr>\n",
       "  </thead>\n",
       "  <tbody>\n",
       "    <tr>\n",
       "      <th>0</th>\n",
       "      <td>tt0000009</td>\n",
       "      <td>Miss Jerry</td>\n",
       "      <td>1894</td>\n",
       "      <td>1894-10-09</td>\n",
       "      <td>Romance</td>\n",
       "      <td>45</td>\n",
       "      <td>USA</td>\n",
       "      <td>Alexander Black</td>\n",
       "      <td>Alexander Black Photoplays</td>\n",
       "      <td>Blanche Bayliss, William Courtenay, Chauncey D...</td>\n",
       "      <td>...</td>\n",
       "      <td>7.0</td>\n",
       "      <td>5.9</td>\n",
       "      <td>5.6</td>\n",
       "      <td>6.7</td>\n",
       "      <td>6.0</td>\n",
       "      <td>35.0</td>\n",
       "      <td>7.3</td>\n",
       "      <td>5.9</td>\n",
       "      <td>5.7</td>\n",
       "      <td>4.5</td>\n",
       "    </tr>\n",
       "    <tr>\n",
       "      <th>1</th>\n",
       "      <td>tt0000574</td>\n",
       "      <td>The Story of the Kelly Gang</td>\n",
       "      <td>1906</td>\n",
       "      <td>1906-12-26</td>\n",
       "      <td>Biography, Crime, Drama</td>\n",
       "      <td>70</td>\n",
       "      <td>Australia</td>\n",
       "      <td>Charles Tait</td>\n",
       "      <td>J. and N. Tait</td>\n",
       "      <td>Elizabeth Tait, John Tait, Norman Campbell, Be...</td>\n",
       "      <td>...</td>\n",
       "      <td>6.0</td>\n",
       "      <td>6.2</td>\n",
       "      <td>6.0</td>\n",
       "      <td>6.2</td>\n",
       "      <td>6.2</td>\n",
       "      <td>50.0</td>\n",
       "      <td>0.0</td>\n",
       "      <td>5.9</td>\n",
       "      <td>6.2</td>\n",
       "      <td>6.6</td>\n",
       "    </tr>\n",
       "    <tr>\n",
       "      <th>2</th>\n",
       "      <td>tt0001892</td>\n",
       "      <td>Den sorte drøm</td>\n",
       "      <td>1911</td>\n",
       "      <td>1911-08-19</td>\n",
       "      <td>Drama</td>\n",
       "      <td>53</td>\n",
       "      <td>Germany, Denmark</td>\n",
       "      <td>Urban Gad</td>\n",
       "      <td>Fotorama</td>\n",
       "      <td>Asta Nielsen, Valdemar Psilander, Gunnar Helse...</td>\n",
       "      <td>...</td>\n",
       "      <td>0.0</td>\n",
       "      <td>5.5</td>\n",
       "      <td>5.9</td>\n",
       "      <td>6.2</td>\n",
       "      <td>5.7</td>\n",
       "      <td>15.0</td>\n",
       "      <td>0.0</td>\n",
       "      <td>5.8</td>\n",
       "      <td>5.8</td>\n",
       "      <td>6.8</td>\n",
       "    </tr>\n",
       "    <tr>\n",
       "      <th>3</th>\n",
       "      <td>tt0002101</td>\n",
       "      <td>Cleopatra</td>\n",
       "      <td>1912</td>\n",
       "      <td>1912-11-13</td>\n",
       "      <td>Drama, History</td>\n",
       "      <td>100</td>\n",
       "      <td>USA</td>\n",
       "      <td>Charles L. Gaskill</td>\n",
       "      <td>Helen Gardner Picture Players</td>\n",
       "      <td>Helen Gardner, Pearl Sindelar, Miss Fielding, ...</td>\n",
       "      <td>...</td>\n",
       "      <td>0.0</td>\n",
       "      <td>5.2</td>\n",
       "      <td>4.9</td>\n",
       "      <td>5.2</td>\n",
       "      <td>5.9</td>\n",
       "      <td>39.0</td>\n",
       "      <td>0.0</td>\n",
       "      <td>5.7</td>\n",
       "      <td>5.5</td>\n",
       "      <td>6.1</td>\n",
       "    </tr>\n",
       "    <tr>\n",
       "      <th>4</th>\n",
       "      <td>tt0002130</td>\n",
       "      <td>L'Inferno</td>\n",
       "      <td>1911</td>\n",
       "      <td>1911-03-06</td>\n",
       "      <td>Adventure, Drama, Fantasy</td>\n",
       "      <td>68</td>\n",
       "      <td>Italy</td>\n",
       "      <td>Francesco Bertolini, Adolfo Padovan</td>\n",
       "      <td>Milano Film</td>\n",
       "      <td>Salvatore Papa, Arturo Pirovano, Giuseppe de L...</td>\n",
       "      <td>...</td>\n",
       "      <td>8.0</td>\n",
       "      <td>7.0</td>\n",
       "      <td>7.0</td>\n",
       "      <td>7.0</td>\n",
       "      <td>7.2</td>\n",
       "      <td>215.0</td>\n",
       "      <td>7.0</td>\n",
       "      <td>7.0</td>\n",
       "      <td>7.3</td>\n",
       "      <td>7.4</td>\n",
       "    </tr>\n",
       "  </tbody>\n",
       "</table>\n",
       "<p>5 rows × 38 columns</p>\n",
       "</div>"
      ],
      "text/plain": [
       "  imdb_title_id               original_title  year date_published  \\\n",
       "0     tt0000009                   Miss Jerry  1894     1894-10-09   \n",
       "1     tt0000574  The Story of the Kelly Gang  1906     1906-12-26   \n",
       "2     tt0001892               Den sorte drøm  1911     1911-08-19   \n",
       "3     tt0002101                    Cleopatra  1912     1912-11-13   \n",
       "4     tt0002130                    L'Inferno  1911     1911-03-06   \n",
       "\n",
       "                       genre  duration           country  \\\n",
       "0                    Romance        45               USA   \n",
       "1    Biography, Crime, Drama        70         Australia   \n",
       "2                      Drama        53  Germany, Denmark   \n",
       "3             Drama, History       100               USA   \n",
       "4  Adventure, Drama, Fantasy        68             Italy   \n",
       "\n",
       "                              director             production_company  \\\n",
       "0                      Alexander Black     Alexander Black Photoplays   \n",
       "1                         Charles Tait                 J. and N. Tait   \n",
       "2                            Urban Gad                       Fotorama   \n",
       "3                   Charles L. Gaskill  Helen Gardner Picture Players   \n",
       "4  Francesco Bertolini, Adolfo Padovan                    Milano Film   \n",
       "\n",
       "                                              actors  ...  \\\n",
       "0  Blanche Bayliss, William Courtenay, Chauncey D...  ...   \n",
       "1  Elizabeth Tait, John Tait, Norman Campbell, Be...  ...   \n",
       "2  Asta Nielsen, Valdemar Psilander, Gunnar Helse...  ...   \n",
       "3  Helen Gardner, Pearl Sindelar, Miss Fielding, ...  ...   \n",
       "4  Salvatore Papa, Arturo Pirovano, Giuseppe de L...  ...   \n",
       "\n",
       "   males_0age_avg_vote  males_18age_avg_vote  males_30age_avg_vote  \\\n",
       "0                  7.0                   5.9                   5.6   \n",
       "1                  6.0                   6.2                   6.0   \n",
       "2                  0.0                   5.5                   5.9   \n",
       "3                  0.0                   5.2                   4.9   \n",
       "4                  8.0                   7.0                   7.0   \n",
       "\n",
       "   males_45age_avg_vote  females_allages_avg_vote  females_allages_votes  \\\n",
       "0                   6.7                       6.0                   35.0   \n",
       "1                   6.2                       6.2                   50.0   \n",
       "2                   6.2                       5.7                   15.0   \n",
       "3                   5.2                       5.9                   39.0   \n",
       "4                   7.0                       7.2                  215.0   \n",
       "\n",
       "   females_0age_avg_vote  females_18age_avg_vote  females_30age_avg_vote  \\\n",
       "0                    7.3                     5.9                     5.7   \n",
       "1                    0.0                     5.9                     6.2   \n",
       "2                    0.0                     5.8                     5.8   \n",
       "3                    0.0                     5.7                     5.5   \n",
       "4                    7.0                     7.0                     7.3   \n",
       "\n",
       "   females_45age_avg_vote  \n",
       "0                     4.5  \n",
       "1                     6.6  \n",
       "2                     6.8  \n",
       "3                     6.1  \n",
       "4                     7.4  \n",
       "\n",
       "[5 rows x 38 columns]"
      ]
     },
     "execution_count": 13,
     "metadata": {},
     "output_type": "execute_result"
    }
   ],
   "source": [
    "rated_movies_df.head(5)"
   ]
  },
  {
   "cell_type": "markdown",
   "metadata": {},
   "source": [
    "## Analise dos Dados"
   ]
  },
  {
   "cell_type": "markdown",
   "metadata": {},
   "source": [
    "##### Perguntas:\n",
    "1. Quais os filmes mais bem avaliados?\n",
    "2. Quais as produtoras que têm maiores médias?\n",
    "3. Quais os gêneros mais bem avaliados?\n",
    "4. Quais os diretores mais bem avaliados?\n",
    "5. Quais os países mais produziram filmes?\n",
    "6. Correlação entre métricas e nota média\n",
    "7. Correlação entre gêneros e idade\n",
    "8. Duração dos filmes ao longo do tempo "
   ]
  },
  {
   "cell_type": "markdown",
   "metadata": {},
   "source": [
    "### 1. Quais os filmes mais bem avaliados?"
   ]
  },
  {
   "cell_type": "code",
   "execution_count": 14,
   "metadata": {},
   "outputs": [
    {
     "data": {
      "text/plain": [
       "10000.530727769437"
      ]
     },
     "execution_count": 14,
     "metadata": {},
     "output_type": "execute_result"
    }
   ],
   "source": [
    "rated_movies_df['total_votes'].mean()"
   ]
  },
  {
   "cell_type": "markdown",
   "metadata": {},
   "source": [
    "####  Geral"
   ]
  },
  {
   "cell_type": "code",
   "execution_count": 15,
   "metadata": {
    "scrolled": true
   },
   "outputs": [
    {
     "data": {
      "image/png": "[encoded data removed]",
      "text/plain": [
       "<Figure size 432x288 with 1 Axes>"
      ]
     },
     "metadata": {
      "needs_background": "light"
     },
     "output_type": "display_data"
    }
   ],
   "source": [
    "best_rated_df = rated_movies_df[(rated_movies_df.total_votes > 10000)].sort_values('mean_vote', ascending=False)\n",
    "best_rated_df[:5].plot.barh(x = 'original_title', y = 'mean_vote');"
   ]
  },
  {
   "cell_type": "markdown",
   "metadata": {},
   "source": [
    "#### EUA"
   ]
  },
  {
   "cell_type": "code",
   "execution_count": 16,
   "metadata": {},
   "outputs": [
    {
     "data": {
      "image/png": "[encoded data removed]",
      "text/plain": [
       "<Figure size 432x288 with 1 Axes>"
      ]
     },
     "metadata": {
      "needs_background": "light"
     },
     "output_type": "display_data"
    }
   ],
   "source": [
    "best_rated_df = rated_movies_df[(rated_movies_df.total_votes > 10000)\n",
    "                               & (rated_movies_df.country == 'USA')].sort_values('mean_vote', ascending=False)\n",
    "best_rated_df[:5].plot.barh(x = 'original_title', y = 'mean_vote');"
   ]
  },
  {
   "cell_type": "markdown",
   "metadata": {},
   "source": [
    "#### Brasil"
   ]
  },
  {
   "cell_type": "code",
   "execution_count": 17,
   "metadata": {
    "scrolled": true
   },
   "outputs": [
    {
     "data": {
      "image/png": "[encoded data removed]",
      "text/plain": [
       "<Figure size 432x288 with 1 Axes>"
      ]
     },
     "metadata": {
      "needs_background": "light"
     },
     "output_type": "display_data"
    }
   ],
   "source": [
    "best_rated_df = rated_movies_df[(rated_movies_df.total_votes > 10000)\n",
    "                               & (rated_movies_df.country == 'Brazil')].sort_values('mean_vote', ascending=False)\n",
    "best_rated_df[:5].plot.barh(x = 'original_title', y = 'mean_vote');"
   ]
  },
  {
   "cell_type": "markdown",
   "metadata": {},
   "source": [
    "### 2. Quais as produtoras mais bem avaliadas?"
   ]
  },
  {
   "cell_type": "code",
   "execution_count": 64,
   "metadata": {},
   "outputs": [],
   "source": [
    "def feature_mean_vote(feature, ranking=5, threshold_movies=100, threshold_votes=50000):\n",
    "    movies_by_feature = rated_movies_df[feature]\n",
    "    #print(movies_by_feature.value_counts()[:ranking].index)\n",
    "    feature_dict = {}\n",
    "    \n",
    "    for feat in movies_by_feature.value_counts().index:\n",
    "        if ((movies_by_feature.value_counts()[feat] > threshold_movies) \n",
    "            and (rated_movies_df[movies_by_feature == feat].sum()['total_votes'] > threshold_votes)):\n",
    "            \n",
    "            feature_df = rated_movies_df[movies_by_feature == feat]\n",
    "            feature_notes_qnt = feature_df.loc[:,'votes_1':'votes_10':-1].sum().values\n",
    "            feature_total_votes = feature_df.total_votes.sum()\n",
    "\n",
    "            sum = 0\n",
    "            for i in range (len(feature_notes_qnt)):\n",
    "                sum += (i + 1) * feature_notes_qnt[i]\n",
    "            \n",
    "            feature_dict[feat] = round((sum / feature_total_votes), 1)\n",
    "            \n",
    "    final_df = pd.DataFrame.from_dict(feature_dict, orient='index', \n",
    "                                      columns=['Nota Media']).sort_values('Nota Media', \n",
    "                                                                          ascending=False)\n",
    "    \n",
    "    final_df[:ranking].plot.barh();"
   ]
  },
  {
   "cell_type": "code",
   "execution_count": 65,
   "metadata": {},
   "outputs": [
    {
     "data": {
      "image/png": "[encoded data removed]",
      "text/plain": [
       "<Figure size 432x288 with 1 Axes>"
      ]
     },
     "metadata": {
      "needs_background": "light"
     },
     "output_type": "display_data"
    }
   ],
   "source": [
    "feature_mean_vote('production_company')\n"
   ]
  },
  {
   "cell_type": "markdown",
   "metadata": {},
   "source": [
    "### 8. Duração dos filmes ao longo do tempo"
   ]
  },
  {
   "cell_type": "code",
   "execution_count": null,
   "metadata": {
    "scrolled": true
   },
   "outputs": [],
   "source": [
    "rated_movies_df[rated_movies_df.year == 'TV Movie 2019'#groupby('year').mean()#plot.line(x = 'year', y = 'duration');"
   ]
  },
  {
   "cell_type": "code",
   "execution_count": null,
   "metadata": {},
   "outputs": [],
   "source": [
    "rated_movies_df.loc[:,\"original_title\":\"mean_vote\"].sort_values('duration', ascending=False)"
   ]
  },
  {
   "cell_type": "code",
   "execution_count": 58,
   "metadata": {},
   "outputs": [
    {
     "data": {
      "text/html": [
       "<div>\n",
       "<style scoped>\n",
       "    .dataframe tbody tr th:only-of-type {\n",
       "        vertical-align: middle;\n",
       "    }\n",
       "\n",
       "    .dataframe tbody tr th {\n",
       "        vertical-align: top;\n",
       "    }\n",
       "\n",
       "    .dataframe thead th {\n",
       "        text-align: right;\n",
       "    }\n",
       "</style>\n",
       "<table border=\"1\" class=\"dataframe\">\n",
       "  <thead>\n",
       "    <tr style=\"text-align: right;\">\n",
       "      <th></th>\n",
       "      <th>imdb_title_id</th>\n",
       "      <th>original_title</th>\n",
       "      <th>year</th>\n",
       "      <th>date_published</th>\n",
       "      <th>genre</th>\n",
       "      <th>duration</th>\n",
       "      <th>country</th>\n",
       "      <th>director</th>\n",
       "      <th>production_company</th>\n",
       "      <th>actors</th>\n",
       "      <th>...</th>\n",
       "      <th>males_0age_avg_vote</th>\n",
       "      <th>males_18age_avg_vote</th>\n",
       "      <th>males_30age_avg_vote</th>\n",
       "      <th>males_45age_avg_vote</th>\n",
       "      <th>females_allages_avg_vote</th>\n",
       "      <th>females_allages_votes</th>\n",
       "      <th>females_0age_avg_vote</th>\n",
       "      <th>females_18age_avg_vote</th>\n",
       "      <th>females_30age_avg_vote</th>\n",
       "      <th>females_45age_avg_vote</th>\n",
       "    </tr>\n",
       "  </thead>\n",
       "  <tbody>\n",
       "    <tr>\n",
       "      <th>0</th>\n",
       "      <td>tt0000009</td>\n",
       "      <td>Miss Jerry</td>\n",
       "      <td>1894</td>\n",
       "      <td>1894-10-09</td>\n",
       "      <td>Romance</td>\n",
       "      <td>45</td>\n",
       "      <td>USA</td>\n",
       "      <td>Alexander Black</td>\n",
       "      <td>Alexander Black Photoplays</td>\n",
       "      <td>Blanche Bayliss, William Courtenay, Chauncey D...</td>\n",
       "      <td>...</td>\n",
       "      <td>7.0</td>\n",
       "      <td>5.9</td>\n",
       "      <td>5.6</td>\n",
       "      <td>6.7</td>\n",
       "      <td>6.0</td>\n",
       "      <td>35.0</td>\n",
       "      <td>7.3</td>\n",
       "      <td>5.9</td>\n",
       "      <td>5.7</td>\n",
       "      <td>4.5</td>\n",
       "    </tr>\n",
       "    <tr>\n",
       "      <th>1</th>\n",
       "      <td>tt0000574</td>\n",
       "      <td>The Story of the Kelly Gang</td>\n",
       "      <td>1906</td>\n",
       "      <td>1906-12-26</td>\n",
       "      <td>Biography, Crime, Drama</td>\n",
       "      <td>70</td>\n",
       "      <td>Australia</td>\n",
       "      <td>Charles Tait</td>\n",
       "      <td>J. and N. Tait</td>\n",
       "      <td>Elizabeth Tait, John Tait, Norman Campbell, Be...</td>\n",
       "      <td>...</td>\n",
       "      <td>6.0</td>\n",
       "      <td>6.2</td>\n",
       "      <td>6.0</td>\n",
       "      <td>6.2</td>\n",
       "      <td>6.2</td>\n",
       "      <td>50.0</td>\n",
       "      <td>0.0</td>\n",
       "      <td>5.9</td>\n",
       "      <td>6.2</td>\n",
       "      <td>6.6</td>\n",
       "    </tr>\n",
       "    <tr>\n",
       "      <th>2</th>\n",
       "      <td>tt0001892</td>\n",
       "      <td>Den sorte drøm</td>\n",
       "      <td>1911</td>\n",
       "      <td>1911-08-19</td>\n",
       "      <td>Drama</td>\n",
       "      <td>53</td>\n",
       "      <td>Germany, Denmark</td>\n",
       "      <td>Urban Gad</td>\n",
       "      <td>Fotorama</td>\n",
       "      <td>Asta Nielsen, Valdemar Psilander, Gunnar Helse...</td>\n",
       "      <td>...</td>\n",
       "      <td>0.0</td>\n",
       "      <td>5.5</td>\n",
       "      <td>5.9</td>\n",
       "      <td>6.2</td>\n",
       "      <td>5.7</td>\n",
       "      <td>15.0</td>\n",
       "      <td>0.0</td>\n",
       "      <td>5.8</td>\n",
       "      <td>5.8</td>\n",
       "      <td>6.8</td>\n",
       "    </tr>\n",
       "    <tr>\n",
       "      <th>3</th>\n",
       "      <td>tt0002101</td>\n",
       "      <td>Cleopatra</td>\n",
       "      <td>1912</td>\n",
       "      <td>1912-11-13</td>\n",
       "      <td>Drama, History</td>\n",
       "      <td>100</td>\n",
       "      <td>USA</td>\n",
       "      <td>Charles L. Gaskill</td>\n",
       "      <td>Helen Gardner Picture Players</td>\n",
       "      <td>Helen Gardner, Pearl Sindelar, Miss Fielding, ...</td>\n",
       "      <td>...</td>\n",
       "      <td>0.0</td>\n",
       "      <td>5.2</td>\n",
       "      <td>4.9</td>\n",
       "      <td>5.2</td>\n",
       "      <td>5.9</td>\n",
       "      <td>39.0</td>\n",
       "      <td>0.0</td>\n",
       "      <td>5.7</td>\n",
       "      <td>5.5</td>\n",
       "      <td>6.1</td>\n",
       "    </tr>\n",
       "    <tr>\n",
       "      <th>4</th>\n",
       "      <td>tt0002130</td>\n",
       "      <td>L'Inferno</td>\n",
       "      <td>1911</td>\n",
       "      <td>1911-03-06</td>\n",
       "      <td>Adventure, Drama, Fantasy</td>\n",
       "      <td>68</td>\n",
       "      <td>Italy</td>\n",
       "      <td>Francesco Bertolini, Adolfo Padovan</td>\n",
       "      <td>Milano Film</td>\n",
       "      <td>Salvatore Papa, Arturo Pirovano, Giuseppe de L...</td>\n",
       "      <td>...</td>\n",
       "      <td>8.0</td>\n",
       "      <td>7.0</td>\n",
       "      <td>7.0</td>\n",
       "      <td>7.0</td>\n",
       "      <td>7.2</td>\n",
       "      <td>215.0</td>\n",
       "      <td>7.0</td>\n",
       "      <td>7.0</td>\n",
       "      <td>7.3</td>\n",
       "      <td>7.4</td>\n",
       "    </tr>\n",
       "    <tr>\n",
       "      <th>...</th>\n",
       "      <td>...</td>\n",
       "      <td>...</td>\n",
       "      <td>...</td>\n",
       "      <td>...</td>\n",
       "      <td>...</td>\n",
       "      <td>...</td>\n",
       "      <td>...</td>\n",
       "      <td>...</td>\n",
       "      <td>...</td>\n",
       "      <td>...</td>\n",
       "      <td>...</td>\n",
       "      <td>...</td>\n",
       "      <td>...</td>\n",
       "      <td>...</td>\n",
       "      <td>...</td>\n",
       "      <td>...</td>\n",
       "      <td>...</td>\n",
       "      <td>...</td>\n",
       "      <td>...</td>\n",
       "      <td>...</td>\n",
       "      <td>...</td>\n",
       "    </tr>\n",
       "    <tr>\n",
       "      <th>85850</th>\n",
       "      <td>tt9908390</td>\n",
       "      <td>Le lion</td>\n",
       "      <td>2020</td>\n",
       "      <td>2020-01-29</td>\n",
       "      <td>Comedy</td>\n",
       "      <td>95</td>\n",
       "      <td>France, Belgium</td>\n",
       "      <td>Ludovic Colbeau-Justin</td>\n",
       "      <td>Monkey Pack Films</td>\n",
       "      <td>Dany Boon, Philippe Katerine, Anne Serra, Samu...</td>\n",
       "      <td>...</td>\n",
       "      <td>6.0</td>\n",
       "      <td>5.6</td>\n",
       "      <td>5.3</td>\n",
       "      <td>5.2</td>\n",
       "      <td>6.0</td>\n",
       "      <td>26.0</td>\n",
       "      <td>0.0</td>\n",
       "      <td>6.2</td>\n",
       "      <td>5.7</td>\n",
       "      <td>5.0</td>\n",
       "    </tr>\n",
       "    <tr>\n",
       "      <th>85851</th>\n",
       "      <td>tt9911196</td>\n",
       "      <td>De Beentjes van Sint-Hildegard</td>\n",
       "      <td>2020</td>\n",
       "      <td>2020-02-13</td>\n",
       "      <td>Comedy, Drama</td>\n",
       "      <td>103</td>\n",
       "      <td>Netherlands</td>\n",
       "      <td>Johan Nijenhuis</td>\n",
       "      <td>Johan Nijenhuis &amp; Co</td>\n",
       "      <td>Herman Finkers, Johanna ter Steege, Leonie ter...</td>\n",
       "      <td>...</td>\n",
       "      <td>0.0</td>\n",
       "      <td>7.6</td>\n",
       "      <td>7.6</td>\n",
       "      <td>7.9</td>\n",
       "      <td>7.6</td>\n",
       "      <td>109.0</td>\n",
       "      <td>0.0</td>\n",
       "      <td>7.4</td>\n",
       "      <td>8.0</td>\n",
       "      <td>7.3</td>\n",
       "    </tr>\n",
       "    <tr>\n",
       "      <th>85852</th>\n",
       "      <td>tt9911774</td>\n",
       "      <td>Padmavyuhathile Abhimanyu</td>\n",
       "      <td>2019</td>\n",
       "      <td>2019-03-08</td>\n",
       "      <td>Drama</td>\n",
       "      <td>130</td>\n",
       "      <td>India</td>\n",
       "      <td>Vineesh Aaradya</td>\n",
       "      <td>RMCC Productions</td>\n",
       "      <td>Anoop Chandran, Indrans, Sona Nair, Simon Brit...</td>\n",
       "      <td>...</td>\n",
       "      <td>0.0</td>\n",
       "      <td>1.0</td>\n",
       "      <td>10.0</td>\n",
       "      <td>3.0</td>\n",
       "      <td>0.0</td>\n",
       "      <td>0.0</td>\n",
       "      <td>0.0</td>\n",
       "      <td>0.0</td>\n",
       "      <td>0.0</td>\n",
       "      <td>0.0</td>\n",
       "    </tr>\n",
       "    <tr>\n",
       "      <th>85853</th>\n",
       "      <td>tt9914286</td>\n",
       "      <td>Sokagin Çocuklari</td>\n",
       "      <td>2019</td>\n",
       "      <td>2019-03-15</td>\n",
       "      <td>Drama, Family</td>\n",
       "      <td>98</td>\n",
       "      <td>Turkey</td>\n",
       "      <td>Ahmet Faik Akinci</td>\n",
       "      <td>Gizem Ajans</td>\n",
       "      <td>Ahmet Faik Akinci, Belma Mamati, Metin Keçeci,...</td>\n",
       "      <td>...</td>\n",
       "      <td>0.0</td>\n",
       "      <td>6.5</td>\n",
       "      <td>1.8</td>\n",
       "      <td>1.0</td>\n",
       "      <td>4.0</td>\n",
       "      <td>2.0</td>\n",
       "      <td>0.0</td>\n",
       "      <td>0.0</td>\n",
       "      <td>0.0</td>\n",
       "      <td>7.0</td>\n",
       "    </tr>\n",
       "    <tr>\n",
       "      <th>85854</th>\n",
       "      <td>tt9914942</td>\n",
       "      <td>La vida sense la Sara Amat</td>\n",
       "      <td>2019</td>\n",
       "      <td>2020-02-05</td>\n",
       "      <td>Drama</td>\n",
       "      <td>74</td>\n",
       "      <td>Spain</td>\n",
       "      <td>Laura Jou</td>\n",
       "      <td>La Xarxa de Comunicació Local</td>\n",
       "      <td>Maria Morera Colomer, Biel Rossell Pelfort, Is...</td>\n",
       "      <td>...</td>\n",
       "      <td>0.0</td>\n",
       "      <td>6.8</td>\n",
       "      <td>6.4</td>\n",
       "      <td>6.5</td>\n",
       "      <td>6.9</td>\n",
       "      <td>15.0</td>\n",
       "      <td>0.0</td>\n",
       "      <td>6.7</td>\n",
       "      <td>6.8</td>\n",
       "      <td>7.5</td>\n",
       "    </tr>\n",
       "  </tbody>\n",
       "</table>\n",
       "<p>81262 rows × 38 columns</p>\n",
       "</div>"
      ],
      "text/plain": [
       "      imdb_title_id                  original_title  year date_published  \\\n",
       "0         tt0000009                      Miss Jerry  1894     1894-10-09   \n",
       "1         tt0000574     The Story of the Kelly Gang  1906     1906-12-26   \n",
       "2         tt0001892                  Den sorte drøm  1911     1911-08-19   \n",
       "3         tt0002101                       Cleopatra  1912     1912-11-13   \n",
       "4         tt0002130                       L'Inferno  1911     1911-03-06   \n",
       "...             ...                             ...   ...            ...   \n",
       "85850     tt9908390                         Le lion  2020     2020-01-29   \n",
       "85851     tt9911196  De Beentjes van Sint-Hildegard  2020     2020-02-13   \n",
       "85852     tt9911774       Padmavyuhathile Abhimanyu  2019     2019-03-08   \n",
       "85853     tt9914286               Sokagin Çocuklari  2019     2019-03-15   \n",
       "85854     tt9914942      La vida sense la Sara Amat  2019     2020-02-05   \n",
       "\n",
       "                           genre  duration           country  \\\n",
       "0                        Romance        45               USA   \n",
       "1        Biography, Crime, Drama        70         Australia   \n",
       "2                          Drama        53  Germany, Denmark   \n",
       "3                 Drama, History       100               USA   \n",
       "4      Adventure, Drama, Fantasy        68             Italy   \n",
       "...                          ...       ...               ...   \n",
       "85850                     Comedy        95   France, Belgium   \n",
       "85851              Comedy, Drama       103       Netherlands   \n",
       "85852                      Drama       130             India   \n",
       "85853              Drama, Family        98            Turkey   \n",
       "85854                      Drama        74             Spain   \n",
       "\n",
       "                                  director             production_company  \\\n",
       "0                          Alexander Black     Alexander Black Photoplays   \n",
       "1                             Charles Tait                 J. and N. Tait   \n",
       "2                                Urban Gad                       Fotorama   \n",
       "3                       Charles L. Gaskill  Helen Gardner Picture Players   \n",
       "4      Francesco Bertolini, Adolfo Padovan                    Milano Film   \n",
       "...                                    ...                            ...   \n",
       "85850               Ludovic Colbeau-Justin              Monkey Pack Films   \n",
       "85851                      Johan Nijenhuis           Johan Nijenhuis & Co   \n",
       "85852                      Vineesh Aaradya               RMCC Productions   \n",
       "85853                    Ahmet Faik Akinci                    Gizem Ajans   \n",
       "85854                            Laura Jou  La Xarxa de Comunicació Local   \n",
       "\n",
       "                                                  actors  ...  \\\n",
       "0      Blanche Bayliss, William Courtenay, Chauncey D...  ...   \n",
       "1      Elizabeth Tait, John Tait, Norman Campbell, Be...  ...   \n",
       "2      Asta Nielsen, Valdemar Psilander, Gunnar Helse...  ...   \n",
       "3      Helen Gardner, Pearl Sindelar, Miss Fielding, ...  ...   \n",
       "4      Salvatore Papa, Arturo Pirovano, Giuseppe de L...  ...   \n",
       "...                                                  ...  ...   \n",
       "85850  Dany Boon, Philippe Katerine, Anne Serra, Samu...  ...   \n",
       "85851  Herman Finkers, Johanna ter Steege, Leonie ter...  ...   \n",
       "85852  Anoop Chandran, Indrans, Sona Nair, Simon Brit...  ...   \n",
       "85853  Ahmet Faik Akinci, Belma Mamati, Metin Keçeci,...  ...   \n",
       "85854  Maria Morera Colomer, Biel Rossell Pelfort, Is...  ...   \n",
       "\n",
       "       males_0age_avg_vote  males_18age_avg_vote  males_30age_avg_vote  \\\n",
       "0                      7.0                   5.9                   5.6   \n",
       "1                      6.0                   6.2                   6.0   \n",
       "2                      0.0                   5.5                   5.9   \n",
       "3                      0.0                   5.2                   4.9   \n",
       "4                      8.0                   7.0                   7.0   \n",
       "...                    ...                   ...                   ...   \n",
       "85850                  6.0                   5.6                   5.3   \n",
       "85851                  0.0                   7.6                   7.6   \n",
       "85852                  0.0                   1.0                  10.0   \n",
       "85853                  0.0                   6.5                   1.8   \n",
       "85854                  0.0                   6.8                   6.4   \n",
       "\n",
       "       males_45age_avg_vote  females_allages_avg_vote  females_allages_votes  \\\n",
       "0                       6.7                       6.0                   35.0   \n",
       "1                       6.2                       6.2                   50.0   \n",
       "2                       6.2                       5.7                   15.0   \n",
       "3                       5.2                       5.9                   39.0   \n",
       "4                       7.0                       7.2                  215.0   \n",
       "...                     ...                       ...                    ...   \n",
       "85850                   5.2                       6.0                   26.0   \n",
       "85851                   7.9                       7.6                  109.0   \n",
       "85852                   3.0                       0.0                    0.0   \n",
       "85853                   1.0                       4.0                    2.0   \n",
       "85854                   6.5                       6.9                   15.0   \n",
       "\n",
       "       females_0age_avg_vote  females_18age_avg_vote  females_30age_avg_vote  \\\n",
       "0                        7.3                     5.9                     5.7   \n",
       "1                        0.0                     5.9                     6.2   \n",
       "2                        0.0                     5.8                     5.8   \n",
       "3                        0.0                     5.7                     5.5   \n",
       "4                        7.0                     7.0                     7.3   \n",
       "...                      ...                     ...                     ...   \n",
       "85850                    0.0                     6.2                     5.7   \n",
       "85851                    0.0                     7.4                     8.0   \n",
       "85852                    0.0                     0.0                     0.0   \n",
       "85853                    0.0                     0.0                     0.0   \n",
       "85854                    0.0                     6.7                     6.8   \n",
       "\n",
       "       females_45age_avg_vote  \n",
       "0                         4.5  \n",
       "1                         6.6  \n",
       "2                         6.8  \n",
       "3                         6.1  \n",
       "4                         7.4  \n",
       "...                       ...  \n",
       "85850                     5.0  \n",
       "85851                     7.3  \n",
       "85852                     0.0  \n",
       "85853                     7.0  \n",
       "85854                     7.5  \n",
       "\n",
       "[81262 rows x 38 columns]"
      ]
     },
     "execution_count": 58,
     "metadata": {},
     "output_type": "execute_result"
    }
   ],
   "source": [
    "rated_movies_df"
   ]
  },
  {
   "cell_type": "code",
   "execution_count": null,
   "metadata": {},
   "outputs": [],
   "source": []
  }
 ],
 "metadata": {
  "kernelspec": {
   "display_name": "Python 3",
   "language": "python",
   "name": "python3"
  },
  "language_info": {
   "codemirror_mode": {
    "name": "ipython",
    "version": 3
   },
   "file_extension": ".py",
   "mimetype": "text/x-python",
   "name": "python",
   "nbconvert_exporter": "python",
   "pygments_lexer": "ipython3",
   "version": "3.8.5"
  }
 },
 "nbformat": 4,
 "nbformat_minor": 4
}
